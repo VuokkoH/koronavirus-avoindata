{
 "cells": [
  {
   "cell_type": "markdown",
   "metadata": {},
   "source": [
    "# Creating a GIS layer for Finnish Health Districts\n"
   ]
  },
  {
   "cell_type": "markdown",
   "metadata": {},
   "source": [
    "After exploring the COVID-19 [data set shared by the Helsingin Sanomat datadesk](https://github.com/HS-Datadesk/koronavirus-avoindata) which I spotted on [Twitter](https://twitter.com/EsaMakinen/status/1237007961853173761), I noticed that the boundaries of Finnish health districts (sairaanhoitopiiri) are not openly available anywhere.\n",
    "\n",
    "This notebook walks you trought the process of creating the health district polygons based on [Statistics Finland municipality polygons](https://www.stat.fi/org/avoindata/paikkatietoaineistot/kuntapohjaiset_tilastointialueet.html) and a [list of health care districts by municipality from Kuntaliitto](https://www.kuntaliitto.fi/sosiaali-ja-terveysasiat/sairaanhoitopiirien-jasenkunnat)."
   ]
  },
  {
   "cell_type": "markdown",
   "metadata": {},
   "source": [
    "Importing required python packages:"
   ]
  },
  {
   "cell_type": "code",
   "execution_count": 35,
   "metadata": {},
   "outputs": [],
   "source": [
    "import json\n",
    "import numpy as np\n",
    "import pandas as pd\n",
    "import geopandas as gpd\n",
    "from pyproj import CRS\n",
    "import matplotlib.pyplot as plt"
   ]
  },
  {
   "cell_type": "markdown",
   "metadata": {},
   "source": [
    "### Data\n",
    "\n",
    "- **Finnish municipalities with health district information** as an Excel spreadsheet from here: https://www.kuntaliitto.fi/sosiaali-ja-terveysasiat/sairaanhoitopiirien-jasenkunnat\n",
    "    - File `Shp_jäsenkunnat_2020.xls`, sheet `kunnat_shp_2020_ aakkosjärj.`\n",
    "    - \"shp\" stands for \"sairaanhoitopiiri\" (health district in Finnish)\n",
    "    \n",
    "*Note: this data set does not include Åland (Ahvenanmaa). Åland municipalities are added in the later step.*"
   ]
  },
  {
   "cell_type": "code",
   "execution_count": 36,
   "metadata": {},
   "outputs": [],
   "source": [
    "data = pd.read_excel(\"Shp_jäsenkunnat_2020.xls\", sheet_name=\"kunnat_shp_2020_ aakkosjärj.\", header=3)"
   ]
  },
  {
   "cell_type": "code",
   "execution_count": 37,
   "metadata": {},
   "outputs": [],
   "source": [
    "data.dropna(inplace=True)"
   ]
  },
  {
   "cell_type": "code",
   "execution_count": 38,
   "metadata": {},
   "outputs": [
    {
     "data": {
      "text/html": [
       "<div>\n",
       "<style scoped>\n",
       "    .dataframe tbody tr th:only-of-type {\n",
       "        vertical-align: middle;\n",
       "    }\n",
       "\n",
       "    .dataframe tbody tr th {\n",
       "        vertical-align: top;\n",
       "    }\n",
       "\n",
       "    .dataframe thead th {\n",
       "        text-align: right;\n",
       "    }\n",
       "</style>\n",
       "<table border=\"1\" class=\"dataframe\">\n",
       "  <thead>\n",
       "    <tr style=\"text-align: right;\">\n",
       "      <th></th>\n",
       "      <th>kunta-\\nkoodi</th>\n",
       "      <th>kunta</th>\n",
       "      <th>shp:n koodi</th>\n",
       "      <th>sairaanhoitopiiri</th>\n",
       "      <th>erva-alue</th>\n",
       "      <th>kuntien lkm</th>\n",
       "    </tr>\n",
       "  </thead>\n",
       "  <tbody>\n",
       "    <tr>\n",
       "      <th>1</th>\n",
       "      <td>20.0</td>\n",
       "      <td>Akaa</td>\n",
       "      <td>6.0</td>\n",
       "      <td>Pirkanmaa</td>\n",
       "      <td>TAYS</td>\n",
       "      <td>1.0</td>\n",
       "    </tr>\n",
       "    <tr>\n",
       "      <th>2</th>\n",
       "      <td>5.0</td>\n",
       "      <td>Alajärvi</td>\n",
       "      <td>15.0</td>\n",
       "      <td>Etelä-Pohjanmaa</td>\n",
       "      <td>TAYS</td>\n",
       "      <td>2.0</td>\n",
       "    </tr>\n",
       "    <tr>\n",
       "      <th>3</th>\n",
       "      <td>9.0</td>\n",
       "      <td>Alavieska</td>\n",
       "      <td>18.0</td>\n",
       "      <td>Pohjois-Pohjanmaa</td>\n",
       "      <td>OYS</td>\n",
       "      <td>3.0</td>\n",
       "    </tr>\n",
       "    <tr>\n",
       "      <th>4</th>\n",
       "      <td>10.0</td>\n",
       "      <td>Alavus</td>\n",
       "      <td>15.0</td>\n",
       "      <td>Etelä-Pohjanmaa</td>\n",
       "      <td>TAYS</td>\n",
       "      <td>4.0</td>\n",
       "    </tr>\n",
       "    <tr>\n",
       "      <th>5</th>\n",
       "      <td>16.0</td>\n",
       "      <td>Asikkala</td>\n",
       "      <td>7.0</td>\n",
       "      <td>Päijät-Häme</td>\n",
       "      <td>HYKS</td>\n",
       "      <td>5.0</td>\n",
       "    </tr>\n",
       "  </tbody>\n",
       "</table>\n",
       "</div>"
      ],
      "text/plain": [
       "   kunta-\\nkoodi      kunta  shp:n koodi  sairaanhoitopiiri erva-alue  \\\n",
       "1           20.0       Akaa          6.0          Pirkanmaa      TAYS   \n",
       "2            5.0   Alajärvi         15.0    Etelä-Pohjanmaa      TAYS   \n",
       "3            9.0  Alavieska         18.0  Pohjois-Pohjanmaa       OYS   \n",
       "4           10.0     Alavus         15.0    Etelä-Pohjanmaa      TAYS   \n",
       "5           16.0   Asikkala          7.0        Päijät-Häme      HYKS   \n",
       "\n",
       "   kuntien lkm  \n",
       "1          1.0  \n",
       "2          2.0  \n",
       "3          3.0  \n",
       "4          4.0  \n",
       "5          5.0  "
      ]
     },
     "execution_count": 38,
     "metadata": {},
     "output_type": "execute_result"
    }
   ],
   "source": [
    "data.head()"
   ]
  },
  {
   "cell_type": "code",
   "execution_count": 39,
   "metadata": {},
   "outputs": [
    {
     "data": {
      "text/plain": [
       "294"
      ]
     },
     "execution_count": 39,
     "metadata": {},
     "output_type": "execute_result"
    }
   ],
   "source": [
    "#Check number of rows (16 Åland municipalities are missing)\n",
    "len(data)"
   ]
  },
  {
   "cell_type": "markdown",
   "metadata": {},
   "source": [
    "The data needs some fixing and cleaning after reading the excel sheet"
   ]
  },
  {
   "cell_type": "code",
   "execution_count": 40,
   "metadata": {},
   "outputs": [],
   "source": [
    "data.rename(columns={\"kunta-\\nkoodi\":\"code\", 'sairaanhoitopiiri':'healthCareDistrict'}, inplace=True)\n",
    "data = data[['code','healthCareDistrict']]"
   ]
  },
  {
   "cell_type": "code",
   "execution_count": 41,
   "metadata": {},
   "outputs": [],
   "source": [
    "# Truncate and convert to character string\n",
    "data[\"code\"] = data[\"code\"].astype(int).astype('str')\n",
    "\n",
    "# Add missing zeros to municipality codes\n",
    "data[\"code\"] = data[\"code\"].apply(lambda x: \"00\" + x if len(x)==1 else x)\n",
    "data[\"code\"] = data[\"code\"].apply(lambda x: \"0\" + x if len(x)==2 else x)"
   ]
  },
  {
   "cell_type": "code",
   "execution_count": 42,
   "metadata": {},
   "outputs": [
    {
     "data": {
      "text/html": [
       "<div>\n",
       "<style scoped>\n",
       "    .dataframe tbody tr th:only-of-type {\n",
       "        vertical-align: middle;\n",
       "    }\n",
       "\n",
       "    .dataframe tbody tr th {\n",
       "        vertical-align: top;\n",
       "    }\n",
       "\n",
       "    .dataframe thead th {\n",
       "        text-align: right;\n",
       "    }\n",
       "</style>\n",
       "<table border=\"1\" class=\"dataframe\">\n",
       "  <thead>\n",
       "    <tr style=\"text-align: right;\">\n",
       "      <th></th>\n",
       "      <th>code</th>\n",
       "      <th>healthCareDistrict</th>\n",
       "    </tr>\n",
       "  </thead>\n",
       "  <tbody>\n",
       "    <tr>\n",
       "      <th>1</th>\n",
       "      <td>020</td>\n",
       "      <td>Pirkanmaa</td>\n",
       "    </tr>\n",
       "    <tr>\n",
       "      <th>2</th>\n",
       "      <td>005</td>\n",
       "      <td>Etelä-Pohjanmaa</td>\n",
       "    </tr>\n",
       "    <tr>\n",
       "      <th>3</th>\n",
       "      <td>009</td>\n",
       "      <td>Pohjois-Pohjanmaa</td>\n",
       "    </tr>\n",
       "    <tr>\n",
       "      <th>4</th>\n",
       "      <td>010</td>\n",
       "      <td>Etelä-Pohjanmaa</td>\n",
       "    </tr>\n",
       "    <tr>\n",
       "      <th>5</th>\n",
       "      <td>016</td>\n",
       "      <td>Päijät-Häme</td>\n",
       "    </tr>\n",
       "  </tbody>\n",
       "</table>\n",
       "</div>"
      ],
      "text/plain": [
       "  code healthCareDistrict\n",
       "1  020          Pirkanmaa\n",
       "2  005    Etelä-Pohjanmaa\n",
       "3  009  Pohjois-Pohjanmaa\n",
       "4  010    Etelä-Pohjanmaa\n",
       "5  016        Päijät-Häme"
      ]
     },
     "execution_count": 42,
     "metadata": {},
     "output_type": "execute_result"
    }
   ],
   "source": [
    "data.head()"
   ]
  },
  {
   "cell_type": "markdown",
   "metadata": {},
   "source": [
    "- **Municipality population counts** from kuntaliitto https://www.kuntaliitto.fi/talous/kuntien-vaesto-ja-ikarakenne\n",
    "    - file `Kuntajaot ja asukasluvut kunnittain 2000-2020.xls` sheet `2020`\n",
    "    - Original source: Statistics Finland"
   ]
  },
  {
   "cell_type": "code",
   "execution_count": 43,
   "metadata": {},
   "outputs": [],
   "source": [
    "pop = pd.read_excel(\"Kuntajaot ja asukasluvut kunnittain 2000-2020.xls\", sheet_name=\"2020\", header=9)"
   ]
  },
  {
   "cell_type": "code",
   "execution_count": 44,
   "metadata": {},
   "outputs": [],
   "source": [
    "pop.rename(columns={\"Asukasluku\":\"population2020\", \"Kuntanro\":\"code\"}, inplace=True)"
   ]
  },
  {
   "cell_type": "code",
   "execution_count": 45,
   "metadata": {},
   "outputs": [],
   "source": [
    "# Drop no data rows from the beginning\n",
    "pop.dropna(inplace=True)\n",
    "\n",
    "# Truncate and convert to character string\n",
    "pop[\"code\"] = pop[\"code\"].astype(int).astype('str')\n",
    "\n",
    "# Add missing zeros to municipality codes\n",
    "pop[\"code\"] = pop[\"code\"].apply(lambda x: \"00\" + x if len(x)==1 else x)\n",
    "pop[\"code\"] = pop[\"code\"].apply(lambda x: \"0\" + x if len(x)==2 else x)"
   ]
  },
  {
   "cell_type": "code",
   "execution_count": 46,
   "metadata": {},
   "outputs": [
    {
     "data": {
      "text/html": [
       "<div>\n",
       "<style scoped>\n",
       "    .dataframe tbody tr th:only-of-type {\n",
       "        vertical-align: middle;\n",
       "    }\n",
       "\n",
       "    .dataframe tbody tr th {\n",
       "        vertical-align: top;\n",
       "    }\n",
       "\n",
       "    .dataframe thead th {\n",
       "        text-align: right;\n",
       "    }\n",
       "</style>\n",
       "<table border=\"1\" class=\"dataframe\">\n",
       "  <thead>\n",
       "    <tr style=\"text-align: right;\">\n",
       "      <th></th>\n",
       "      <th>code</th>\n",
       "      <th>Kunta</th>\n",
       "      <th>population2020</th>\n",
       "    </tr>\n",
       "  </thead>\n",
       "  <tbody>\n",
       "    <tr>\n",
       "      <th>3</th>\n",
       "      <td>020</td>\n",
       "      <td>Akaa</td>\n",
       "      <td>16611</td>\n",
       "    </tr>\n",
       "    <tr>\n",
       "      <th>4</th>\n",
       "      <td>005</td>\n",
       "      <td>Alajärvi</td>\n",
       "      <td>9700</td>\n",
       "    </tr>\n",
       "    <tr>\n",
       "      <th>5</th>\n",
       "      <td>009</td>\n",
       "      <td>Alavieska</td>\n",
       "      <td>2573</td>\n",
       "    </tr>\n",
       "    <tr>\n",
       "      <th>6</th>\n",
       "      <td>010</td>\n",
       "      <td>Alavus</td>\n",
       "      <td>11544</td>\n",
       "    </tr>\n",
       "    <tr>\n",
       "      <th>7</th>\n",
       "      <td>016</td>\n",
       "      <td>Asikkala</td>\n",
       "      <td>8149</td>\n",
       "    </tr>\n",
       "  </tbody>\n",
       "</table>\n",
       "</div>"
      ],
      "text/plain": [
       "  code      Kunta population2020\n",
       "3  020       Akaa          16611\n",
       "4  005   Alajärvi           9700\n",
       "5  009  Alavieska           2573\n",
       "6  010     Alavus          11544\n",
       "7  016   Asikkala           8149"
      ]
     },
     "execution_count": 46,
     "metadata": {},
     "output_type": "execute_result"
    }
   ],
   "source": [
    "pop.head()"
   ]
  },
  {
   "cell_type": "code",
   "execution_count": 47,
   "metadata": {},
   "outputs": [],
   "source": [
    "# fix data type from string to integer\n",
    "pop[\"population2020\"] = pop[\"population2020\"].astype(int)"
   ]
  },
  {
   "cell_type": "code",
   "execution_count": 48,
   "metadata": {},
   "outputs": [
    {
     "data": {
      "text/plain": [
       "310"
      ]
     },
     "execution_count": 48,
     "metadata": {},
     "output_type": "execute_result"
    }
   ],
   "source": [
    "# Check length (all municipalities are included)\n",
    "len(pop)"
   ]
  },
  {
   "cell_type": "markdown",
   "metadata": {},
   "source": [
    "- **Municipality polygons** via Statistics Finland web feature service: https://www.stat.fi/org/avoindata/paikkatietoaineistot/kuntapohjaiset_tilastointialueet.html"
   ]
  },
  {
   "cell_type": "code",
   "execution_count": 49,
   "metadata": {},
   "outputs": [],
   "source": [
    "# For more info, see http://geo.stat.fi/geoserver/tilastointialueet/wfs?request=GetCapabilities\n",
    "url = \"http://geo.stat.fi/geoserver/tilastointialueet/wfs?request=GetFeature&typename=tilastointialueet:kunta1000k&outputformat=JSON\"\n",
    "geodata = gpd.read_file(url)"
   ]
  },
  {
   "cell_type": "code",
   "execution_count": 50,
   "metadata": {},
   "outputs": [
    {
     "data": {
      "text/html": [
       "<div>\n",
       "<style scoped>\n",
       "    .dataframe tbody tr th:only-of-type {\n",
       "        vertical-align: middle;\n",
       "    }\n",
       "\n",
       "    .dataframe tbody tr th {\n",
       "        vertical-align: top;\n",
       "    }\n",
       "\n",
       "    .dataframe thead th {\n",
       "        text-align: right;\n",
       "    }\n",
       "</style>\n",
       "<table border=\"1\" class=\"dataframe\">\n",
       "  <thead>\n",
       "    <tr style=\"text-align: right;\">\n",
       "      <th></th>\n",
       "      <th>id</th>\n",
       "      <th>kunta</th>\n",
       "      <th>vuosi</th>\n",
       "      <th>nimi</th>\n",
       "      <th>namn</th>\n",
       "      <th>name</th>\n",
       "      <th>geometry</th>\n",
       "    </tr>\n",
       "  </thead>\n",
       "  <tbody>\n",
       "    <tr>\n",
       "      <th>0</th>\n",
       "      <td>kunta1000k.1</td>\n",
       "      <td>005</td>\n",
       "      <td>2020</td>\n",
       "      <td>Alajärvi</td>\n",
       "      <td>Alajärvi</td>\n",
       "      <td>Alajärvi</td>\n",
       "      <td>POLYGON ((366787.924 7001300.583, 364487.590 6...</td>\n",
       "    </tr>\n",
       "    <tr>\n",
       "      <th>1</th>\n",
       "      <td>kunta1000k.2</td>\n",
       "      <td>009</td>\n",
       "      <td>2020</td>\n",
       "      <td>Alavieska</td>\n",
       "      <td>Alavieska</td>\n",
       "      <td>Alavieska</td>\n",
       "      <td>POLYGON ((382543.364 7120022.976, 382899.505 7...</td>\n",
       "    </tr>\n",
       "    <tr>\n",
       "      <th>2</th>\n",
       "      <td>kunta1000k.3</td>\n",
       "      <td>010</td>\n",
       "      <td>2020</td>\n",
       "      <td>Alavus</td>\n",
       "      <td>Alavus</td>\n",
       "      <td>Alavus</td>\n",
       "      <td>POLYGON ((343298.204 6961570.195, 343831.847 6...</td>\n",
       "    </tr>\n",
       "    <tr>\n",
       "      <th>3</th>\n",
       "      <td>kunta1000k.4</td>\n",
       "      <td>016</td>\n",
       "      <td>2020</td>\n",
       "      <td>Asikkala</td>\n",
       "      <td>Asikkala</td>\n",
       "      <td>Asikkala</td>\n",
       "      <td>POLYGON ((436139.680 6798279.085, 435714.468 6...</td>\n",
       "    </tr>\n",
       "    <tr>\n",
       "      <th>4</th>\n",
       "      <td>kunta1000k.5</td>\n",
       "      <td>018</td>\n",
       "      <td>2020</td>\n",
       "      <td>Askola</td>\n",
       "      <td>Askola</td>\n",
       "      <td>Askola</td>\n",
       "      <td>POLYGON ((426631.036 6720528.076, 428821.749 6...</td>\n",
       "    </tr>\n",
       "  </tbody>\n",
       "</table>\n",
       "</div>"
      ],
      "text/plain": [
       "             id kunta  vuosi       nimi       namn       name  \\\n",
       "0  kunta1000k.1   005   2020   Alajärvi   Alajärvi   Alajärvi   \n",
       "1  kunta1000k.2   009   2020  Alavieska  Alavieska  Alavieska   \n",
       "2  kunta1000k.3   010   2020     Alavus     Alavus     Alavus   \n",
       "3  kunta1000k.4   016   2020   Asikkala   Asikkala   Asikkala   \n",
       "4  kunta1000k.5   018   2020     Askola     Askola     Askola   \n",
       "\n",
       "                                            geometry  \n",
       "0  POLYGON ((366787.924 7001300.583, 364487.590 6...  \n",
       "1  POLYGON ((382543.364 7120022.976, 382899.505 7...  \n",
       "2  POLYGON ((343298.204 6961570.195, 343831.847 6...  \n",
       "3  POLYGON ((436139.680 6798279.085, 435714.468 6...  \n",
       "4  POLYGON ((426631.036 6720528.076, 428821.749 6...  "
      ]
     },
     "execution_count": 50,
     "metadata": {},
     "output_type": "execute_result"
    }
   ],
   "source": [
    "geodata.head()"
   ]
  },
  {
   "cell_type": "code",
   "execution_count": 51,
   "metadata": {},
   "outputs": [
    {
     "data": {
      "text/plain": [
       "310"
      ]
     },
     "execution_count": 51,
     "metadata": {},
     "output_type": "execute_result"
    }
   ],
   "source": [
    "len(geodata)"
   ]
  },
  {
   "cell_type": "code",
   "execution_count": 52,
   "metadata": {},
   "outputs": [
    {
     "data": {
      "text/plain": [
       "<matplotlib.axes._subplots.AxesSubplot at 0x15b6fea4108>"
      ]
     },
     "execution_count": 52,
     "metadata": {},
     "output_type": "execute_result"
    },
    {
     "data": {
      "image/png": "[encoded data removed]",
      "text/plain": [
       "<Figure size 432x288 with 1 Axes>"
      ]
     },
     "metadata": {
      "needs_background": "light"
     },
     "output_type": "display_data"
    }
   ],
   "source": [
    "geodata.plot()"
   ]
  },
  {
   "cell_type": "markdown",
   "metadata": {},
   "source": [
    "## Join population to municipalities"
   ]
  },
  {
   "cell_type": "code",
   "execution_count": 53,
   "metadata": {},
   "outputs": [],
   "source": [
    "geodata = geodata[['kunta', 'nimi', 'name', 'geometry']].merge(pop[[\"code\", \"population2020\"]], left_on=\"kunta\", right_on=\"code\", how=\"left\")"
   ]
  },
  {
   "cell_type": "code",
   "execution_count": 54,
   "metadata": {},
   "outputs": [
    {
     "data": {
      "text/html": [
       "<div>\n",
       "<style scoped>\n",
       "    .dataframe tbody tr th:only-of-type {\n",
       "        vertical-align: middle;\n",
       "    }\n",
       "\n",
       "    .dataframe tbody tr th {\n",
       "        vertical-align: top;\n",
       "    }\n",
       "\n",
       "    .dataframe thead th {\n",
       "        text-align: right;\n",
       "    }\n",
       "</style>\n",
       "<table border=\"1\" class=\"dataframe\">\n",
       "  <thead>\n",
       "    <tr style=\"text-align: right;\">\n",
       "      <th></th>\n",
       "      <th>kunta</th>\n",
       "      <th>nimi</th>\n",
       "      <th>name</th>\n",
       "      <th>geometry</th>\n",
       "      <th>code</th>\n",
       "      <th>population2020</th>\n",
       "    </tr>\n",
       "  </thead>\n",
       "  <tbody>\n",
       "    <tr>\n",
       "      <th>0</th>\n",
       "      <td>005</td>\n",
       "      <td>Alajärvi</td>\n",
       "      <td>Alajärvi</td>\n",
       "      <td>POLYGON ((366787.924 7001300.583, 364487.590 6...</td>\n",
       "      <td>005</td>\n",
       "      <td>9700</td>\n",
       "    </tr>\n",
       "    <tr>\n",
       "      <th>1</th>\n",
       "      <td>009</td>\n",
       "      <td>Alavieska</td>\n",
       "      <td>Alavieska</td>\n",
       "      <td>POLYGON ((382543.364 7120022.976, 382899.505 7...</td>\n",
       "      <td>009</td>\n",
       "      <td>2573</td>\n",
       "    </tr>\n",
       "    <tr>\n",
       "      <th>2</th>\n",
       "      <td>010</td>\n",
       "      <td>Alavus</td>\n",
       "      <td>Alavus</td>\n",
       "      <td>POLYGON ((343298.204 6961570.195, 343831.847 6...</td>\n",
       "      <td>010</td>\n",
       "      <td>11544</td>\n",
       "    </tr>\n",
       "    <tr>\n",
       "      <th>3</th>\n",
       "      <td>016</td>\n",
       "      <td>Asikkala</td>\n",
       "      <td>Asikkala</td>\n",
       "      <td>POLYGON ((436139.680 6798279.085, 435714.468 6...</td>\n",
       "      <td>016</td>\n",
       "      <td>8149</td>\n",
       "    </tr>\n",
       "    <tr>\n",
       "      <th>4</th>\n",
       "      <td>018</td>\n",
       "      <td>Askola</td>\n",
       "      <td>Askola</td>\n",
       "      <td>POLYGON ((426631.036 6720528.076, 428821.749 6...</td>\n",
       "      <td>018</td>\n",
       "      <td>4958</td>\n",
       "    </tr>\n",
       "  </tbody>\n",
       "</table>\n",
       "</div>"
      ],
      "text/plain": [
       "  kunta       nimi       name  \\\n",
       "0   005   Alajärvi   Alajärvi   \n",
       "1   009  Alavieska  Alavieska   \n",
       "2   010     Alavus     Alavus   \n",
       "3   016   Asikkala   Asikkala   \n",
       "4   018     Askola     Askola   \n",
       "\n",
       "                                            geometry code  population2020  \n",
       "0  POLYGON ((366787.924 7001300.583, 364487.590 6...  005            9700  \n",
       "1  POLYGON ((382543.364 7120022.976, 382899.505 7...  009            2573  \n",
       "2  POLYGON ((343298.204 6961570.195, 343831.847 6...  010           11544  \n",
       "3  POLYGON ((436139.680 6798279.085, 435714.468 6...  016            8149  \n",
       "4  POLYGON ((426631.036 6720528.076, 428821.749 6...  018            4958  "
      ]
     },
     "execution_count": 54,
     "metadata": {},
     "output_type": "execute_result"
    }
   ],
   "source": [
    "geodata.head()"
   ]
  },
  {
   "cell_type": "markdown",
   "metadata": {},
   "source": [
    "## Join Health district info to the municipality polygons"
   ]
  },
  {
   "cell_type": "code",
   "execution_count": 55,
   "metadata": {},
   "outputs": [],
   "source": [
    "geodata = geodata.merge(data, left_on=\"code\", right_on=\"code\", how=\"left\")"
   ]
  },
  {
   "cell_type": "code",
   "execution_count": 56,
   "metadata": {},
   "outputs": [
    {
     "data": {
      "text/html": [
       "<div>\n",
       "<style scoped>\n",
       "    .dataframe tbody tr th:only-of-type {\n",
       "        vertical-align: middle;\n",
       "    }\n",
       "\n",
       "    .dataframe tbody tr th {\n",
       "        vertical-align: top;\n",
       "    }\n",
       "\n",
       "    .dataframe thead th {\n",
       "        text-align: right;\n",
       "    }\n",
       "</style>\n",
       "<table border=\"1\" class=\"dataframe\">\n",
       "  <thead>\n",
       "    <tr style=\"text-align: right;\">\n",
       "      <th></th>\n",
       "      <th>kunta</th>\n",
       "      <th>nimi</th>\n",
       "      <th>name</th>\n",
       "      <th>geometry</th>\n",
       "      <th>code</th>\n",
       "      <th>population2020</th>\n",
       "      <th>healthCareDistrict</th>\n",
       "    </tr>\n",
       "  </thead>\n",
       "  <tbody>\n",
       "    <tr>\n",
       "      <th>0</th>\n",
       "      <td>005</td>\n",
       "      <td>Alajärvi</td>\n",
       "      <td>Alajärvi</td>\n",
       "      <td>POLYGON ((366787.924 7001300.583, 364487.590 6...</td>\n",
       "      <td>005</td>\n",
       "      <td>9700</td>\n",
       "      <td>Etelä-Pohjanmaa</td>\n",
       "    </tr>\n",
       "    <tr>\n",
       "      <th>1</th>\n",
       "      <td>009</td>\n",
       "      <td>Alavieska</td>\n",
       "      <td>Alavieska</td>\n",
       "      <td>POLYGON ((382543.364 7120022.976, 382899.505 7...</td>\n",
       "      <td>009</td>\n",
       "      <td>2573</td>\n",
       "      <td>Pohjois-Pohjanmaa</td>\n",
       "    </tr>\n",
       "    <tr>\n",
       "      <th>2</th>\n",
       "      <td>010</td>\n",
       "      <td>Alavus</td>\n",
       "      <td>Alavus</td>\n",
       "      <td>POLYGON ((343298.204 6961570.195, 343831.847 6...</td>\n",
       "      <td>010</td>\n",
       "      <td>11544</td>\n",
       "      <td>Etelä-Pohjanmaa</td>\n",
       "    </tr>\n",
       "    <tr>\n",
       "      <th>3</th>\n",
       "      <td>016</td>\n",
       "      <td>Asikkala</td>\n",
       "      <td>Asikkala</td>\n",
       "      <td>POLYGON ((436139.680 6798279.085, 435714.468 6...</td>\n",
       "      <td>016</td>\n",
       "      <td>8149</td>\n",
       "      <td>Päijät-Häme</td>\n",
       "    </tr>\n",
       "    <tr>\n",
       "      <th>4</th>\n",
       "      <td>018</td>\n",
       "      <td>Askola</td>\n",
       "      <td>Askola</td>\n",
       "      <td>POLYGON ((426631.036 6720528.076, 428821.749 6...</td>\n",
       "      <td>018</td>\n",
       "      <td>4958</td>\n",
       "      <td>HUS</td>\n",
       "    </tr>\n",
       "  </tbody>\n",
       "</table>\n",
       "</div>"
      ],
      "text/plain": [
       "  kunta       nimi       name  \\\n",
       "0   005   Alajärvi   Alajärvi   \n",
       "1   009  Alavieska  Alavieska   \n",
       "2   010     Alavus     Alavus   \n",
       "3   016   Asikkala   Asikkala   \n",
       "4   018     Askola     Askola   \n",
       "\n",
       "                                            geometry code  population2020  \\\n",
       "0  POLYGON ((366787.924 7001300.583, 364487.590 6...  005            9700   \n",
       "1  POLYGON ((382543.364 7120022.976, 382899.505 7...  009            2573   \n",
       "2  POLYGON ((343298.204 6961570.195, 343831.847 6...  010           11544   \n",
       "3  POLYGON ((436139.680 6798279.085, 435714.468 6...  016            8149   \n",
       "4  POLYGON ((426631.036 6720528.076, 428821.749 6...  018            4958   \n",
       "\n",
       "  healthCareDistrict  \n",
       "0    Etelä-Pohjanmaa  \n",
       "1  Pohjois-Pohjanmaa  \n",
       "2    Etelä-Pohjanmaa  \n",
       "3        Päijät-Häme  \n",
       "4                HUS  "
      ]
     },
     "execution_count": 56,
     "metadata": {},
     "output_type": "execute_result"
    }
   ],
   "source": [
    "geodata.head()"
   ]
  },
  {
   "cell_type": "code",
   "execution_count": 57,
   "metadata": {},
   "outputs": [
    {
     "data": {
      "text/plain": [
       "7          Brändö\n",
       "8          Eckerö\n",
       "15       Finström\n",
       "17          Föglö\n",
       "18           Geta\n",
       "24     Hammarland\n",
       "58         Jomala\n",
       "112      Kumlinge\n",
       "122         Kökar\n",
       "135       Lemland\n",
       "148    Lumparland\n",
       "154     Mariehamn\n",
       "237       Saltvik\n",
       "255      Sottunga\n",
       "257          Sund\n",
       "302         Vårdö\n",
       "Name: name, dtype: object"
      ]
     },
     "execution_count": 57,
     "metadata": {},
     "output_type": "execute_result"
    }
   ],
   "source": [
    "# Municipalities in the Åland island did not have a matching health care district in the data\n",
    "geodata[geodata.healthCareDistrict.notnull()==False].name"
   ]
  },
  {
   "cell_type": "code",
   "execution_count": 58,
   "metadata": {},
   "outputs": [],
   "source": [
    "# Update \"Ahvenanmaa\" as the health care district for Åland municipalities (16 municipalities in total)\n",
    "geodata.loc[geodata.healthCareDistrict.notnull()==False,'healthCareDistrict'] = \"Ahvenanmaa\""
   ]
  },
  {
   "cell_type": "markdown",
   "metadata": {},
   "source": [
    "Check the count of municipalities per health care disctrict"
   ]
  },
  {
   "cell_type": "code",
   "execution_count": 59,
   "metadata": {},
   "outputs": [
    {
     "data": {
      "text/plain": [
       "Pohjois-Pohjanmaa    29\n",
       "Varsinais-Suomi      28\n",
       "HUS                  24\n",
       "Pirkanmaa            23\n",
       "Keski-Suomi          21\n",
       "Etelä-Pohjanmaa      18\n",
       "Pohjois-Savo         18\n",
       "Satakunta            17\n",
       "Ahvenanmaa           16\n",
       "Lappi                15\n",
       "Pohjois-Karjala      13\n",
       "Vaasa                13\n",
       "Päijät-Häme          12\n",
       "Kanta-Häme           11\n",
       "Keski-Pohjanmaa      10\n",
       "Etelä-Karjala         9\n",
       "Etelä-Savo            9\n",
       "Kainuu                8\n",
       "Kymenlaakso           6\n",
       "Länsi-Pohja           6\n",
       "Itä-Savo              4\n",
       "Name: healthCareDistrict, dtype: int64"
      ]
     },
     "execution_count": 59,
     "metadata": {},
     "output_type": "execute_result"
    }
   ],
   "source": [
    "geodata.healthCareDistrict.value_counts()"
   ]
  },
  {
   "cell_type": "markdown",
   "metadata": {},
   "source": [
    "## Create polygons for health care districts "
   ]
  },
  {
   "cell_type": "code",
   "execution_count": 60,
   "metadata": {},
   "outputs": [],
   "source": [
    "# Dissolve (=combine) municipality polygon geometries for each health care district\n",
    "districts = geodata.dissolve(by='healthCareDistrict', aggfunc=\"sum\")"
   ]
  },
  {
   "cell_type": "code",
   "execution_count": 61,
   "metadata": {},
   "outputs": [
    {
     "data": {
      "text/html": [
       "<div>\n",
       "<style scoped>\n",
       "    .dataframe tbody tr th:only-of-type {\n",
       "        vertical-align: middle;\n",
       "    }\n",
       "\n",
       "    .dataframe tbody tr th {\n",
       "        vertical-align: top;\n",
       "    }\n",
       "\n",
       "    .dataframe thead th {\n",
       "        text-align: right;\n",
       "    }\n",
       "</style>\n",
       "<table border=\"1\" class=\"dataframe\">\n",
       "  <thead>\n",
       "    <tr style=\"text-align: right;\">\n",
       "      <th></th>\n",
       "      <th>geometry</th>\n",
       "      <th>population2020</th>\n",
       "    </tr>\n",
       "    <tr>\n",
       "      <th>healthCareDistrict</th>\n",
       "      <th></th>\n",
       "      <th></th>\n",
       "    </tr>\n",
       "  </thead>\n",
       "  <tbody>\n",
       "    <tr>\n",
       "      <th>Ahvenanmaa</th>\n",
       "      <td>MULTIPOLYGON (((173277.623 6640282.925, 173136...</td>\n",
       "      <td>29789</td>\n",
       "    </tr>\n",
       "    <tr>\n",
       "      <th>Etelä-Karjala</th>\n",
       "      <td>POLYGON ((595843.841 6772915.996, 592557.900 6...</td>\n",
       "      <td>128756</td>\n",
       "    </tr>\n",
       "    <tr>\n",
       "      <th>Etelä-Pohjanmaa</th>\n",
       "      <td>POLYGON ((373036.311 6953044.961, 376149.768 6...</td>\n",
       "      <td>194316</td>\n",
       "    </tr>\n",
       "    <tr>\n",
       "      <th>Etelä-Savo</th>\n",
       "      <td>POLYGON ((596327.952 6823806.064, 596718.363 6...</td>\n",
       "      <td>100226</td>\n",
       "    </tr>\n",
       "    <tr>\n",
       "      <th>HUS</th>\n",
       "      <td>MULTIPOLYGON (((272609.681 6632304.439, 272418...</td>\n",
       "      <td>1667203</td>\n",
       "    </tr>\n",
       "  </tbody>\n",
       "</table>\n",
       "</div>"
      ],
      "text/plain": [
       "                                                             geometry  \\\n",
       "healthCareDistrict                                                      \n",
       "Ahvenanmaa          MULTIPOLYGON (((173277.623 6640282.925, 173136...   \n",
       "Etelä-Karjala       POLYGON ((595843.841 6772915.996, 592557.900 6...   \n",
       "Etelä-Pohjanmaa     POLYGON ((373036.311 6953044.961, 376149.768 6...   \n",
       "Etelä-Savo          POLYGON ((596327.952 6823806.064, 596718.363 6...   \n",
       "HUS                 MULTIPOLYGON (((272609.681 6632304.439, 272418...   \n",
       "\n",
       "                    population2020  \n",
       "healthCareDistrict                  \n",
       "Ahvenanmaa                   29789  \n",
       "Etelä-Karjala               128756  \n",
       "Etelä-Pohjanmaa             194316  \n",
       "Etelä-Savo                  100226  \n",
       "HUS                        1667203  "
      ]
     },
     "execution_count": 61,
     "metadata": {},
     "output_type": "execute_result"
    }
   ],
   "source": [
    "districts.head()"
   ]
  },
  {
   "cell_type": "code",
   "execution_count": 62,
   "metadata": {},
   "outputs": [],
   "source": [
    "districts.reset_index(inplace=True)"
   ]
  },
  {
   "cell_type": "code",
   "execution_count": 63,
   "metadata": {},
   "outputs": [],
   "source": [
    "districts = districts[['healthCareDistrict','population2020','geometry']]"
   ]
  },
  {
   "cell_type": "code",
   "execution_count": 64,
   "metadata": {},
   "outputs": [
    {
     "data": {
      "text/html": [
       "<div>\n",
       "<style scoped>\n",
       "    .dataframe tbody tr th:only-of-type {\n",
       "        vertical-align: middle;\n",
       "    }\n",
       "\n",
       "    .dataframe tbody tr th {\n",
       "        vertical-align: top;\n",
       "    }\n",
       "\n",
       "    .dataframe thead th {\n",
       "        text-align: right;\n",
       "    }\n",
       "</style>\n",
       "<table border=\"1\" class=\"dataframe\">\n",
       "  <thead>\n",
       "    <tr style=\"text-align: right;\">\n",
       "      <th></th>\n",
       "      <th>healthCareDistrict</th>\n",
       "      <th>population2020</th>\n",
       "      <th>geometry</th>\n",
       "    </tr>\n",
       "  </thead>\n",
       "  <tbody>\n",
       "    <tr>\n",
       "      <th>0</th>\n",
       "      <td>Ahvenanmaa</td>\n",
       "      <td>29789</td>\n",
       "      <td>MULTIPOLYGON (((173277.623 6640282.925, 173136...</td>\n",
       "    </tr>\n",
       "    <tr>\n",
       "      <th>1</th>\n",
       "      <td>Etelä-Karjala</td>\n",
       "      <td>128756</td>\n",
       "      <td>POLYGON ((595843.841 6772915.996, 592557.900 6...</td>\n",
       "    </tr>\n",
       "    <tr>\n",
       "      <th>2</th>\n",
       "      <td>Etelä-Pohjanmaa</td>\n",
       "      <td>194316</td>\n",
       "      <td>POLYGON ((373036.311 6953044.961, 376149.768 6...</td>\n",
       "    </tr>\n",
       "    <tr>\n",
       "      <th>3</th>\n",
       "      <td>Etelä-Savo</td>\n",
       "      <td>100226</td>\n",
       "      <td>POLYGON ((596327.952 6823806.064, 596718.363 6...</td>\n",
       "    </tr>\n",
       "    <tr>\n",
       "      <th>4</th>\n",
       "      <td>HUS</td>\n",
       "      <td>1667203</td>\n",
       "      <td>MULTIPOLYGON (((272609.681 6632304.439, 272418...</td>\n",
       "    </tr>\n",
       "    <tr>\n",
       "      <th>5</th>\n",
       "      <td>Itä-Savo</td>\n",
       "      <td>41060</td>\n",
       "      <td>POLYGON ((572240.425 6898837.522, 576521.513 6...</td>\n",
       "    </tr>\n",
       "    <tr>\n",
       "      <th>6</th>\n",
       "      <td>Kainuu</td>\n",
       "      <td>73061</td>\n",
       "      <td>POLYGON ((606127.874 7081796.115, 603849.594 7...</td>\n",
       "    </tr>\n",
       "    <tr>\n",
       "      <th>7</th>\n",
       "      <td>Kanta-Häme</td>\n",
       "      <td>171364</td>\n",
       "      <td>POLYGON ((393094.362 6756355.691, 394102.316 6...</td>\n",
       "    </tr>\n",
       "    <tr>\n",
       "      <th>8</th>\n",
       "      <td>Keski-Pohjanmaa</td>\n",
       "      <td>77689</td>\n",
       "      <td>MULTIPOLYGON (((302835.219 7083897.220, 302801...</td>\n",
       "    </tr>\n",
       "    <tr>\n",
       "      <th>9</th>\n",
       "      <td>Keski-Suomi</td>\n",
       "      <td>252676</td>\n",
       "      <td>POLYGON ((439110.805 6852598.036, 439300.113 6...</td>\n",
       "    </tr>\n",
       "    <tr>\n",
       "      <th>10</th>\n",
       "      <td>Kymenlaakso</td>\n",
       "      <td>166623</td>\n",
       "      <td>MULTIPOLYGON (((501532.450 6680088.052, 501352...</td>\n",
       "    </tr>\n",
       "    <tr>\n",
       "      <th>11</th>\n",
       "      <td>Lappi</td>\n",
       "      <td>117350</td>\n",
       "      <td>POLYGON ((518535.957 7313104.574, 515335.969 7...</td>\n",
       "    </tr>\n",
       "    <tr>\n",
       "      <th>12</th>\n",
       "      <td>Länsi-Pohja</td>\n",
       "      <td>61172</td>\n",
       "      <td>MULTIPOLYGON (((399348.710 7271646.236, 399096...</td>\n",
       "    </tr>\n",
       "    <tr>\n",
       "      <th>13</th>\n",
       "      <td>Pirkanmaa</td>\n",
       "      <td>535044</td>\n",
       "      <td>POLYGON ((324952.559 6773513.092, 327451.427 6...</td>\n",
       "    </tr>\n",
       "    <tr>\n",
       "      <th>14</th>\n",
       "      <td>Pohjois-Karjala</td>\n",
       "      <td>165569</td>\n",
       "      <td>POLYGON ((612018.017 6919096.630, 612969.094 6...</td>\n",
       "    </tr>\n",
       "    <tr>\n",
       "      <th>15</th>\n",
       "      <td>Pohjois-Pohjanmaa</td>\n",
       "      <td>409418</td>\n",
       "      <td>MULTIPOLYGON (((374638.926 7170355.448, 374515...</td>\n",
       "    </tr>\n",
       "    <tr>\n",
       "      <th>16</th>\n",
       "      <td>Pohjois-Savo</td>\n",
       "      <td>245602</td>\n",
       "      <td>POLYGON ((568071.215 6914370.703, 570686.991 6...</td>\n",
       "    </tr>\n",
       "    <tr>\n",
       "      <th>17</th>\n",
       "      <td>Päijät-Häme</td>\n",
       "      <td>211215</td>\n",
       "      <td>POLYGON ((441787.770 6730507.194, 442140.745 6...</td>\n",
       "    </tr>\n",
       "    <tr>\n",
       "      <th>18</th>\n",
       "      <td>Satakunta</td>\n",
       "      <td>218624</td>\n",
       "      <td>MULTIPOLYGON (((196901.009 6784937.612, 196955...</td>\n",
       "    </tr>\n",
       "    <tr>\n",
       "      <th>19</th>\n",
       "      <td>Vaasa</td>\n",
       "      <td>169684</td>\n",
       "      <td>MULTIPOLYGON (((200371.753 6892181.697, 200360...</td>\n",
       "    </tr>\n",
       "    <tr>\n",
       "      <th>20</th>\n",
       "      <td>Varsinais-Suomi</td>\n",
       "      <td>481478</td>\n",
       "      <td>MULTIPOLYGON (((258767.605 6632338.388, 258668...</td>\n",
       "    </tr>\n",
       "  </tbody>\n",
       "</table>\n",
       "</div>"
      ],
      "text/plain": [
       "   healthCareDistrict  population2020  \\\n",
       "0          Ahvenanmaa           29789   \n",
       "1       Etelä-Karjala          128756   \n",
       "2     Etelä-Pohjanmaa          194316   \n",
       "3          Etelä-Savo          100226   \n",
       "4                 HUS         1667203   \n",
       "5            Itä-Savo           41060   \n",
       "6              Kainuu           73061   \n",
       "7          Kanta-Häme          171364   \n",
       "8     Keski-Pohjanmaa           77689   \n",
       "9         Keski-Suomi          252676   \n",
       "10        Kymenlaakso          166623   \n",
       "11              Lappi          117350   \n",
       "12        Länsi-Pohja           61172   \n",
       "13          Pirkanmaa          535044   \n",
       "14    Pohjois-Karjala          165569   \n",
       "15  Pohjois-Pohjanmaa          409418   \n",
       "16       Pohjois-Savo          245602   \n",
       "17        Päijät-Häme          211215   \n",
       "18          Satakunta          218624   \n",
       "19              Vaasa          169684   \n",
       "20    Varsinais-Suomi          481478   \n",
       "\n",
       "                                             geometry  \n",
       "0   MULTIPOLYGON (((173277.623 6640282.925, 173136...  \n",
       "1   POLYGON ((595843.841 6772915.996, 592557.900 6...  \n",
       "2   POLYGON ((373036.311 6953044.961, 376149.768 6...  \n",
       "3   POLYGON ((596327.952 6823806.064, 596718.363 6...  \n",
       "4   MULTIPOLYGON (((272609.681 6632304.439, 272418...  \n",
       "5   POLYGON ((572240.425 6898837.522, 576521.513 6...  \n",
       "6   POLYGON ((606127.874 7081796.115, 603849.594 7...  \n",
       "7   POLYGON ((393094.362 6756355.691, 394102.316 6...  \n",
       "8   MULTIPOLYGON (((302835.219 7083897.220, 302801...  \n",
       "9   POLYGON ((439110.805 6852598.036, 439300.113 6...  \n",
       "10  MULTIPOLYGON (((501532.450 6680088.052, 501352...  \n",
       "11  POLYGON ((518535.957 7313104.574, 515335.969 7...  \n",
       "12  MULTIPOLYGON (((399348.710 7271646.236, 399096...  \n",
       "13  POLYGON ((324952.559 6773513.092, 327451.427 6...  \n",
       "14  POLYGON ((612018.017 6919096.630, 612969.094 6...  \n",
       "15  MULTIPOLYGON (((374638.926 7170355.448, 374515...  \n",
       "16  POLYGON ((568071.215 6914370.703, 570686.991 6...  \n",
       "17  POLYGON ((441787.770 6730507.194, 442140.745 6...  \n",
       "18  MULTIPOLYGON (((196901.009 6784937.612, 196955...  \n",
       "19  MULTIPOLYGON (((200371.753 6892181.697, 200360...  \n",
       "20  MULTIPOLYGON (((258767.605 6632338.388, 258668...  "
      ]
     },
     "execution_count": 64,
     "metadata": {},
     "output_type": "execute_result"
    }
   ],
   "source": [
    "districts"
   ]
  },
  {
   "cell_type": "code",
   "execution_count": 65,
   "metadata": {},
   "outputs": [
    {
     "data": {
      "text/plain": [
       "(40857.339215, 765862.479085, 6575077.820610001, 7833703.7515899995)"
      ]
     },
     "execution_count": 65,
     "metadata": {},
     "output_type": "execute_result"
    },
    {
     "data": {
      "image/png": "[encoded data removed]",
      "text/plain": [
       "<Figure size 432x288 with 1 Axes>"
      ]
     },
     "metadata": {
      "needs_background": "light"
     },
     "output_type": "display_data"
    }
   ],
   "source": [
    "districts.plot(column='healthCareDistrict', scheme=\"equal_interval\",cmap='tab20', k=20)\n",
    "plt.axis('off')"
   ]
  },
  {
   "cell_type": "code",
   "execution_count": 66,
   "metadata": {},
   "outputs": [],
   "source": [
    "# Write GeoJSON in original projection\n",
    "districts.to_file(\"healthDistrictsEPSG3067.geojson\", driver='GeoJSON', encoding='utf-8')"
   ]
  },
  {
   "cell_type": "code",
   "execution_count": 67,
   "metadata": {},
   "outputs": [],
   "source": [
    "# Re-project to WGS84 and save again\n",
    "wgs84 = CRS.from_epsg(4326)\n",
    "districts.to_crs(wgs84).to_file(\"healthDistrictsEPSG4326.geojson\", driver='GeoJSON', encoding='utf-8')"
   ]
  },
  {
   "cell_type": "code",
   "execution_count": 68,
   "metadata": {},
   "outputs": [],
   "source": [
    "# Write population per health care district to csv\n",
    "districts[['healthCareDistrict','population2020']].to_csv(\"healtCareDistricts_population2020.csv\", index=False)"
   ]
  }
 ],
 "metadata": {
  "kernelspec": {
   "display_name": "Python 3",
   "language": "python",
   "name": "python3"
  },
  "language_info": {
   "codemirror_mode": {
    "name": "ipython",
    "version": 3
   },
   "file_extension": ".py",
   "mimetype": "text/x-python",
   "name": "python",
   "nbconvert_exporter": "python",
   "pygments_lexer": "ipython3",
   "version": "3.7.6"
  }
 },
 "nbformat": 4,
 "nbformat_minor": 4
}
