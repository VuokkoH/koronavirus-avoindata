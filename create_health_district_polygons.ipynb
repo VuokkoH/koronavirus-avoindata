{
 "cells": [
  {
   "cell_type": "markdown",
   "metadata": {},
   "source": [
    "# Creating a GIS layer for Finnish Health Districts\n"
   ]
  },
  {
   "cell_type": "markdown",
   "metadata": {},
   "source": [
    "After exploring the COVID-19 [data set shared by the Helsingin Sanomat datadesk](https://github.com/HS-Datadesk/koronavirus-avoindata) which I spotted on [Twitter](https://twitter.com/EsaMakinen/status/1237007961853173761), I noticed that the boundaries of Finnish health districts (sairaanhoitopiiri) are not openly available anywhere.\n",
    "\n",
    "This notebook walks you trought the process of creating the health district polygons based on [Statistics Finland municipality polygons and population info](https://www.stat.fi/org/avoindata/paikkatietoaineistot/vaesto_tilastointialueittain.html) and a [list of health care districts by municipality from Kuntaliitto](https://www.kuntaliitto.fi/sosiaali-ja-terveysasiat/sairaanhoitopiirien-jasenkunnat)."
   ]
  },
  {
   "cell_type": "markdown",
   "metadata": {},
   "source": [
    "Importing required python packages:"
   ]
  },
  {
   "cell_type": "code",
   "execution_count": 1,
   "metadata": {},
   "outputs": [],
   "source": [
    "import json\n",
    "import numpy as np\n",
    "import pandas as pd\n",
    "import geopandas as gpd\n",
    "from pyproj import CRS\n",
    "import matplotlib.pyplot as plt"
   ]
  },
  {
   "cell_type": "markdown",
   "metadata": {},
   "source": [
    "## Data\n",
    "\n",
    "- **Finnish municipalities with health district information** as an Excel spreadsheet from here: https://www.kuntaliitto.fi/sosiaali-ja-terveysasiat/sairaanhoitopiirien-jasenkunnat\n",
    "    - File `Shp_jäsenkunnat_2020.xls`, sheet `kunnat_shp_2020_ aakkosjärj.`\n",
    "    - \"shp\" stands for \"sairaanhoitopiiri\" (health district in Finnish)\n",
    "    \n",
    "*Note: this data set does not include Åland (Ahvenanmaa). Åland municipalities are added in the later step.*\n",
    "\n",
    "*Note: this info should be also available from a Statistics Finland API(?) in a more standard format. If you know how, let me know!*"
   ]
  },
  {
   "cell_type": "code",
   "execution_count": 2,
   "metadata": {},
   "outputs": [],
   "source": [
    "data = pd.read_excel(\"Shp_jäsenkunnat_2020.xls\", sheet_name=\"kunnat_shp_2020_ aakkosjärj.\", header=3)"
   ]
  },
  {
   "cell_type": "code",
   "execution_count": 3,
   "metadata": {},
   "outputs": [],
   "source": [
    "data.dropna(inplace=True)"
   ]
  },
  {
   "cell_type": "code",
   "execution_count": 4,
   "metadata": {},
   "outputs": [
    {
     "data": {
      "text/html": [
       "<div>\n",
       "<style scoped>\n",
       "    .dataframe tbody tr th:only-of-type {\n",
       "        vertical-align: middle;\n",
       "    }\n",
       "\n",
       "    .dataframe tbody tr th {\n",
       "        vertical-align: top;\n",
       "    }\n",
       "\n",
       "    .dataframe thead th {\n",
       "        text-align: right;\n",
       "    }\n",
       "</style>\n",
       "<table border=\"1\" class=\"dataframe\">\n",
       "  <thead>\n",
       "    <tr style=\"text-align: right;\">\n",
       "      <th></th>\n",
       "      <th>kunta-\\nkoodi</th>\n",
       "      <th>kunta</th>\n",
       "      <th>shp:n koodi</th>\n",
       "      <th>sairaanhoitopiiri</th>\n",
       "      <th>erva-alue</th>\n",
       "      <th>kuntien lkm</th>\n",
       "    </tr>\n",
       "  </thead>\n",
       "  <tbody>\n",
       "    <tr>\n",
       "      <th>1</th>\n",
       "      <td>20.0</td>\n",
       "      <td>Akaa</td>\n",
       "      <td>6.0</td>\n",
       "      <td>Pirkanmaa</td>\n",
       "      <td>TAYS</td>\n",
       "      <td>1.0</td>\n",
       "    </tr>\n",
       "    <tr>\n",
       "      <th>2</th>\n",
       "      <td>5.0</td>\n",
       "      <td>Alajärvi</td>\n",
       "      <td>15.0</td>\n",
       "      <td>Etelä-Pohjanmaa</td>\n",
       "      <td>TAYS</td>\n",
       "      <td>2.0</td>\n",
       "    </tr>\n",
       "    <tr>\n",
       "      <th>3</th>\n",
       "      <td>9.0</td>\n",
       "      <td>Alavieska</td>\n",
       "      <td>18.0</td>\n",
       "      <td>Pohjois-Pohjanmaa</td>\n",
       "      <td>OYS</td>\n",
       "      <td>3.0</td>\n",
       "    </tr>\n",
       "    <tr>\n",
       "      <th>4</th>\n",
       "      <td>10.0</td>\n",
       "      <td>Alavus</td>\n",
       "      <td>15.0</td>\n",
       "      <td>Etelä-Pohjanmaa</td>\n",
       "      <td>TAYS</td>\n",
       "      <td>4.0</td>\n",
       "    </tr>\n",
       "    <tr>\n",
       "      <th>5</th>\n",
       "      <td>16.0</td>\n",
       "      <td>Asikkala</td>\n",
       "      <td>7.0</td>\n",
       "      <td>Päijät-Häme</td>\n",
       "      <td>HYKS</td>\n",
       "      <td>5.0</td>\n",
       "    </tr>\n",
       "  </tbody>\n",
       "</table>\n",
       "</div>"
      ],
      "text/plain": [
       "   kunta-\\nkoodi      kunta  shp:n koodi  sairaanhoitopiiri erva-alue  \\\n",
       "1           20.0       Akaa          6.0          Pirkanmaa      TAYS   \n",
       "2            5.0   Alajärvi         15.0    Etelä-Pohjanmaa      TAYS   \n",
       "3            9.0  Alavieska         18.0  Pohjois-Pohjanmaa       OYS   \n",
       "4           10.0     Alavus         15.0    Etelä-Pohjanmaa      TAYS   \n",
       "5           16.0   Asikkala          7.0        Päijät-Häme      HYKS   \n",
       "\n",
       "   kuntien lkm  \n",
       "1          1.0  \n",
       "2          2.0  \n",
       "3          3.0  \n",
       "4          4.0  \n",
       "5          5.0  "
      ]
     },
     "execution_count": 4,
     "metadata": {},
     "output_type": "execute_result"
    }
   ],
   "source": [
    "data.head()"
   ]
  },
  {
   "cell_type": "code",
   "execution_count": 5,
   "metadata": {},
   "outputs": [
    {
     "data": {
      "text/plain": [
       "294"
      ]
     },
     "execution_count": 5,
     "metadata": {},
     "output_type": "execute_result"
    }
   ],
   "source": [
    "#Check number of rows (16 Åland municipalities are missing)\n",
    "len(data)"
   ]
  },
  {
   "cell_type": "markdown",
   "metadata": {},
   "source": [
    "The data needs some fixing and cleaning after reading the excel sheet"
   ]
  },
  {
   "cell_type": "code",
   "execution_count": 6,
   "metadata": {},
   "outputs": [],
   "source": [
    "data.rename(columns={\"kunta-\\nkoodi\":\"code\", 'sairaanhoitopiiri':'healthCareDistrict'}, inplace=True)\n",
    "data = data[['code','healthCareDistrict']]"
   ]
  },
  {
   "cell_type": "code",
   "execution_count": 7,
   "metadata": {},
   "outputs": [],
   "source": [
    "# Truncate and convert to character string\n",
    "data[\"code\"] = data[\"code\"].astype(int).astype('str')\n",
    "\n",
    "# Add missing zeros to municipality codes\n",
    "data[\"code\"] = data[\"code\"].apply(lambda x: \"00\" + x if len(x)==1 else x)\n",
    "data[\"code\"] = data[\"code\"].apply(lambda x: \"0\" + x if len(x)==2 else x)"
   ]
  },
  {
   "cell_type": "code",
   "execution_count": 8,
   "metadata": {},
   "outputs": [
    {
     "data": {
      "text/html": [
       "<div>\n",
       "<style scoped>\n",
       "    .dataframe tbody tr th:only-of-type {\n",
       "        vertical-align: middle;\n",
       "    }\n",
       "\n",
       "    .dataframe tbody tr th {\n",
       "        vertical-align: top;\n",
       "    }\n",
       "\n",
       "    .dataframe thead th {\n",
       "        text-align: right;\n",
       "    }\n",
       "</style>\n",
       "<table border=\"1\" class=\"dataframe\">\n",
       "  <thead>\n",
       "    <tr style=\"text-align: right;\">\n",
       "      <th></th>\n",
       "      <th>code</th>\n",
       "      <th>healthCareDistrict</th>\n",
       "    </tr>\n",
       "  </thead>\n",
       "  <tbody>\n",
       "    <tr>\n",
       "      <th>1</th>\n",
       "      <td>020</td>\n",
       "      <td>Pirkanmaa</td>\n",
       "    </tr>\n",
       "    <tr>\n",
       "      <th>2</th>\n",
       "      <td>005</td>\n",
       "      <td>Etelä-Pohjanmaa</td>\n",
       "    </tr>\n",
       "    <tr>\n",
       "      <th>3</th>\n",
       "      <td>009</td>\n",
       "      <td>Pohjois-Pohjanmaa</td>\n",
       "    </tr>\n",
       "    <tr>\n",
       "      <th>4</th>\n",
       "      <td>010</td>\n",
       "      <td>Etelä-Pohjanmaa</td>\n",
       "    </tr>\n",
       "    <tr>\n",
       "      <th>5</th>\n",
       "      <td>016</td>\n",
       "      <td>Päijät-Häme</td>\n",
       "    </tr>\n",
       "  </tbody>\n",
       "</table>\n",
       "</div>"
      ],
      "text/plain": [
       "  code healthCareDistrict\n",
       "1  020          Pirkanmaa\n",
       "2  005    Etelä-Pohjanmaa\n",
       "3  009  Pohjois-Pohjanmaa\n",
       "4  010    Etelä-Pohjanmaa\n",
       "5  016        Päijät-Häme"
      ]
     },
     "execution_count": 8,
     "metadata": {},
     "output_type": "execute_result"
    }
   ],
   "source": [
    "data.head()"
   ]
  },
  {
   "cell_type": "markdown",
   "metadata": {},
   "source": [
    "- **Municipality polygons** from Statistics Finland web feature service: https://www.stat.fi/org/avoindata/paikkatietoaineistot/kuntapohjaiset_tilastointialueet.html\n",
    "    - wfs: http://geo.stat.fi/geoserver/tilastointialueet/wfs?\n",
    "    - feature: `tilastointialueet:kunta1000k` (most recent information about municipality polygons)\n",
    "\n",
    "\n",
    "\n"
   ]
  },
  {
   "cell_type": "code",
   "execution_count": 9,
   "metadata": {},
   "outputs": [],
   "source": [
    "# For available features, see http://geo.stat.fi/geoserver/tilastointialueet/wfs?request=GetCapabilities\n",
    "url = \"http://geo.stat.fi/geoserver/tilastointialueet/wfs?request=GetFeature&typename=tilastointialueet:kunta1000k&outputformat=JSON\"\n",
    "geodata = gpd.read_file(url)"
   ]
  },
  {
   "cell_type": "code",
   "execution_count": 10,
   "metadata": {},
   "outputs": [
    {
     "data": {
      "text/plain": [
       "310"
      ]
     },
     "execution_count": 10,
     "metadata": {},
     "output_type": "execute_result"
    }
   ],
   "source": [
    "# Check length (there are 310 municipalities in Finland in 2020)\n",
    "len(geodata)"
   ]
  },
  {
   "cell_type": "code",
   "execution_count": 11,
   "metadata": {},
   "outputs": [
    {
     "data": {
      "text/html": [
       "<div>\n",
       "<style scoped>\n",
       "    .dataframe tbody tr th:only-of-type {\n",
       "        vertical-align: middle;\n",
       "    }\n",
       "\n",
       "    .dataframe tbody tr th {\n",
       "        vertical-align: top;\n",
       "    }\n",
       "\n",
       "    .dataframe thead th {\n",
       "        text-align: right;\n",
       "    }\n",
       "</style>\n",
       "<table border=\"1\" class=\"dataframe\">\n",
       "  <thead>\n",
       "    <tr style=\"text-align: right;\">\n",
       "      <th></th>\n",
       "      <th>code</th>\n",
       "      <th>geometry</th>\n",
       "    </tr>\n",
       "  </thead>\n",
       "  <tbody>\n",
       "    <tr>\n",
       "      <th>0</th>\n",
       "      <td>005</td>\n",
       "      <td>POLYGON ((366787.924 7001300.583, 364487.590 6...</td>\n",
       "    </tr>\n",
       "    <tr>\n",
       "      <th>1</th>\n",
       "      <td>009</td>\n",
       "      <td>POLYGON ((382543.364 7120022.976, 382899.505 7...</td>\n",
       "    </tr>\n",
       "    <tr>\n",
       "      <th>2</th>\n",
       "      <td>010</td>\n",
       "      <td>POLYGON ((343298.204 6961570.195, 343831.847 6...</td>\n",
       "    </tr>\n",
       "    <tr>\n",
       "      <th>3</th>\n",
       "      <td>016</td>\n",
       "      <td>POLYGON ((436139.680 6798279.085, 435714.468 6...</td>\n",
       "    </tr>\n",
       "    <tr>\n",
       "      <th>4</th>\n",
       "      <td>018</td>\n",
       "      <td>POLYGON ((426631.036 6720528.076, 428821.749 6...</td>\n",
       "    </tr>\n",
       "  </tbody>\n",
       "</table>\n",
       "</div>"
      ],
      "text/plain": [
       "  code                                           geometry\n",
       "0  005  POLYGON ((366787.924 7001300.583, 364487.590 6...\n",
       "1  009  POLYGON ((382543.364 7120022.976, 382899.505 7...\n",
       "2  010  POLYGON ((343298.204 6961570.195, 343831.847 6...\n",
       "3  016  POLYGON ((436139.680 6798279.085, 435714.468 6...\n",
       "4  018  POLYGON ((426631.036 6720528.076, 428821.749 6..."
      ]
     },
     "execution_count": 11,
     "metadata": {},
     "output_type": "execute_result"
    }
   ],
   "source": [
    "#Select and rename columns\n",
    "geodata = geodata[['kunta', 'geometry']]\n",
    "geodata.rename(columns={'kunta':'code'}, inplace=True)\n",
    "geodata.head()"
   ]
  },
  {
   "cell_type": "code",
   "execution_count": 12,
   "metadata": {},
   "outputs": [
    {
     "data": {
      "text/plain": [
       "<matplotlib.axes._subplots.AxesSubplot at 0x240f6aca9c8>"
      ]
     },
     "execution_count": 12,
     "metadata": {},
     "output_type": "execute_result"
    },
    {
     "data": {
      "image/png": "[encoded data removed]",
      "text/plain": [
       "<Figure size 432x288 with 1 Axes>"
      ]
     },
     "metadata": {
      "needs_background": "light"
     },
     "output_type": "display_data"
    }
   ],
   "source": [
    "geodata.plot()"
   ]
  },
  {
   "cell_type": "markdown",
   "metadata": {},
   "source": [
    "- **Population count for each municipality** from Statistics Finland: https://www.stat.fi/org/avoindata/paikkatietoaineistot/vaesto_tilastointialueittain.html\n",
    "\n",
    "    - WFS: http://geo.stat.fi/geoserver/vaestoalue/wfs \n",
    "    - Feature `kunta_vaki2018`: column `vaesto`\n",
    "    - Latest population data currently available here is from 31.12.2018 with 2019 municipality borders.\n",
    "    - Note: Valtimo merged with Nurmes in 2020. Belongs to Pohjois-Karjala health care district.\n",
    "    - *This layer also contains geometries, but I will only use the population info from this layer and join that info to the more recent municipality polygons.*"
   ]
  },
  {
   "cell_type": "code",
   "execution_count": 13,
   "metadata": {},
   "outputs": [],
   "source": [
    "# For available features, see http://geo.stat.fi/geoserver/vaestoalue/wfs?request=GetCapabilities\n",
    "url = \"http://geo.stat.fi/geoserver/vaestoalue/wfs?request=GetFeature&typename=vaestoalue:kunta_vaki2018&outputformat=JSON\"\n",
    "pop = gpd.read_file(url)"
   ]
  },
  {
   "cell_type": "code",
   "execution_count": 14,
   "metadata": {},
   "outputs": [],
   "source": [
    "#Select and rename columns\n",
    "pop = pop[[\"kunta\", \"name\", \"vaesto\", \"geometry\"]]\n",
    "pop.rename(columns={'kunta':'code', 'vaesto':'population_31_12_2018'}, inplace=True)"
   ]
  },
  {
   "cell_type": "code",
   "execution_count": 15,
   "metadata": {},
   "outputs": [
    {
     "data": {
      "text/html": [
       "<div>\n",
       "<style scoped>\n",
       "    .dataframe tbody tr th:only-of-type {\n",
       "        vertical-align: middle;\n",
       "    }\n",
       "\n",
       "    .dataframe tbody tr th {\n",
       "        vertical-align: top;\n",
       "    }\n",
       "\n",
       "    .dataframe thead th {\n",
       "        text-align: right;\n",
       "    }\n",
       "</style>\n",
       "<table border=\"1\" class=\"dataframe\">\n",
       "  <thead>\n",
       "    <tr style=\"text-align: right;\">\n",
       "      <th></th>\n",
       "      <th>code</th>\n",
       "      <th>name</th>\n",
       "      <th>population_31_12_2018</th>\n",
       "      <th>geometry</th>\n",
       "    </tr>\n",
       "  </thead>\n",
       "  <tbody>\n",
       "    <tr>\n",
       "      <th>0</th>\n",
       "      <td>005</td>\n",
       "      <td>Alajärvi</td>\n",
       "      <td>9700</td>\n",
       "      <td>MULTIPOLYGON (((348733.187 6959704.551, 343298...</td>\n",
       "    </tr>\n",
       "    <tr>\n",
       "      <th>1</th>\n",
       "      <td>009</td>\n",
       "      <td>Alavieska</td>\n",
       "      <td>2573</td>\n",
       "      <td>MULTIPOLYGON (((370424.741 7104339.037, 360962...</td>\n",
       "    </tr>\n",
       "    <tr>\n",
       "      <th>2</th>\n",
       "      <td>010</td>\n",
       "      <td>Alavus</td>\n",
       "      <td>11544</td>\n",
       "      <td>MULTIPOLYGON (((317245.323 6922242.407, 310933...</td>\n",
       "    </tr>\n",
       "    <tr>\n",
       "      <th>3</th>\n",
       "      <td>016</td>\n",
       "      <td>Asikkala</td>\n",
       "      <td>8149</td>\n",
       "      <td>MULTIPOLYGON (((434407.880 6774122.311, 422536...</td>\n",
       "    </tr>\n",
       "    <tr>\n",
       "      <th>4</th>\n",
       "      <td>018</td>\n",
       "      <td>Askola</td>\n",
       "      <td>4958</td>\n",
       "      <td>MULTIPOLYGON (((423421.791 6704555.878, 420729...</td>\n",
       "    </tr>\n",
       "  </tbody>\n",
       "</table>\n",
       "</div>"
      ],
      "text/plain": [
       "  code       name  population_31_12_2018  \\\n",
       "0  005   Alajärvi                   9700   \n",
       "1  009  Alavieska                   2573   \n",
       "2  010     Alavus                  11544   \n",
       "3  016   Asikkala                   8149   \n",
       "4  018     Askola                   4958   \n",
       "\n",
       "                                            geometry  \n",
       "0  MULTIPOLYGON (((348733.187 6959704.551, 343298...  \n",
       "1  MULTIPOLYGON (((370424.741 7104339.037, 360962...  \n",
       "2  MULTIPOLYGON (((317245.323 6922242.407, 310933...  \n",
       "3  MULTIPOLYGON (((434407.880 6774122.311, 422536...  \n",
       "4  MULTIPOLYGON (((423421.791 6704555.878, 420729...  "
      ]
     },
     "execution_count": 15,
     "metadata": {},
     "output_type": "execute_result"
    }
   ],
   "source": [
    "pop.head()"
   ]
  },
  {
   "cell_type": "code",
   "execution_count": 16,
   "metadata": {},
   "outputs": [
    {
     "data": {
      "text/plain": [
       "311"
      ]
     },
     "execution_count": 16,
     "metadata": {},
     "output_type": "execute_result"
    }
   ],
   "source": [
    "# Check length, in 2020, there are 310 Municipalities. \n",
    "#This data still contains Valtimo which was merged with Nurmes at the end of 2019\n",
    "len(pop)"
   ]
  },
  {
   "cell_type": "code",
   "execution_count": 17,
   "metadata": {},
   "outputs": [],
   "source": [
    "# Quick \"kuntaliitos\"; \n",
    "if \"Valtimo\" in pop[\"name\"].values:\n",
    "    \n",
    "    # Update update municipality code and name of Nurmes for Valtimo\n",
    "    pop.loc[pop[\"name\"]==\"Valtimo\", \"code\"] = pop[pop[\"name\"]==\"Nurmes\"].code.to_numpy()[0]\n",
    "    pop.loc[pop[\"name\"]==\"Valtimo\", \"name\"] = pop[pop[\"name\"]==\"Nurmes\"].name.to_numpy()[0]\n",
    "    \n",
    "    # Merge also polygon geometries (not used in the final alyer, but might be useful later)\n",
    "    temp = pop.dissolve(by=\"code\", aggfunc='sum')\n",
    "    temp.reset_index(inplace=True)\n",
    "    \n",
    "    # Re-join municipality names to the new geometries\n",
    "    pop = temp.merge(pop[[\"code\", \"name\"]].drop_duplicates(), on=\"code\", how=\"left\")"
   ]
  },
  {
   "cell_type": "code",
   "execution_count": 18,
   "metadata": {},
   "outputs": [
    {
     "data": {
      "text/html": [
       "<div>\n",
       "<style scoped>\n",
       "    .dataframe tbody tr th:only-of-type {\n",
       "        vertical-align: middle;\n",
       "    }\n",
       "\n",
       "    .dataframe tbody tr th {\n",
       "        vertical-align: top;\n",
       "    }\n",
       "\n",
       "    .dataframe thead th {\n",
       "        text-align: right;\n",
       "    }\n",
       "</style>\n",
       "<table border=\"1\" class=\"dataframe\">\n",
       "  <thead>\n",
       "    <tr style=\"text-align: right;\">\n",
       "      <th></th>\n",
       "      <th>code</th>\n",
       "      <th>geometry</th>\n",
       "      <th>population_31_12_2018</th>\n",
       "      <th>name</th>\n",
       "    </tr>\n",
       "  </thead>\n",
       "  <tbody>\n",
       "    <tr>\n",
       "      <th>0</th>\n",
       "      <td>005</td>\n",
       "      <td>POLYGON ((348733.187 6959704.551, 343298.204 6...</td>\n",
       "      <td>9700</td>\n",
       "      <td>Alajärvi</td>\n",
       "    </tr>\n",
       "    <tr>\n",
       "      <th>1</th>\n",
       "      <td>009</td>\n",
       "      <td>POLYGON ((370424.741 7104339.037, 360962.992 7...</td>\n",
       "      <td>2573</td>\n",
       "      <td>Alavieska</td>\n",
       "    </tr>\n",
       "    <tr>\n",
       "      <th>2</th>\n",
       "      <td>010</td>\n",
       "      <td>POLYGON ((317245.323 6922242.407, 310933.466 6...</td>\n",
       "      <td>11544</td>\n",
       "      <td>Alavus</td>\n",
       "    </tr>\n",
       "    <tr>\n",
       "      <th>3</th>\n",
       "      <td>016</td>\n",
       "      <td>POLYGON ((434407.880 6774122.311, 422536.607 6...</td>\n",
       "      <td>8149</td>\n",
       "      <td>Asikkala</td>\n",
       "    </tr>\n",
       "    <tr>\n",
       "      <th>4</th>\n",
       "      <td>018</td>\n",
       "      <td>POLYGON ((423421.791 6704555.878, 420729.970 6...</td>\n",
       "      <td>4958</td>\n",
       "      <td>Askola</td>\n",
       "    </tr>\n",
       "  </tbody>\n",
       "</table>\n",
       "</div>"
      ],
      "text/plain": [
       "  code                                           geometry  \\\n",
       "0  005  POLYGON ((348733.187 6959704.551, 343298.204 6...   \n",
       "1  009  POLYGON ((370424.741 7104339.037, 360962.992 7...   \n",
       "2  010  POLYGON ((317245.323 6922242.407, 310933.466 6...   \n",
       "3  016  POLYGON ((434407.880 6774122.311, 422536.607 6...   \n",
       "4  018  POLYGON ((423421.791 6704555.878, 420729.970 6...   \n",
       "\n",
       "   population_31_12_2018       name  \n",
       "0                   9700   Alajärvi  \n",
       "1                   2573  Alavieska  \n",
       "2                  11544     Alavus  \n",
       "3                   8149   Asikkala  \n",
       "4                   4958     Askola  "
      ]
     },
     "execution_count": 18,
     "metadata": {},
     "output_type": "execute_result"
    }
   ],
   "source": [
    "pop.head()"
   ]
  },
  {
   "cell_type": "code",
   "execution_count": 19,
   "metadata": {},
   "outputs": [
    {
     "data": {
      "text/plain": [
       "310"
      ]
     },
     "execution_count": 19,
     "metadata": {},
     "output_type": "execute_result"
    }
   ],
   "source": [
    "len(pop)"
   ]
  },
  {
   "cell_type": "markdown",
   "metadata": {},
   "source": [
    "The population data comes also with municipality polygons. "
   ]
  },
  {
   "cell_type": "code",
   "execution_count": 20,
   "metadata": {},
   "outputs": [
    {
     "data": {
      "text/plain": [
       "<matplotlib.axes._subplots.AxesSubplot at 0x240f7dba748>"
      ]
     },
     "execution_count": 20,
     "metadata": {},
     "output_type": "execute_result"
    },
    {
     "data": {
      "image/png": "[encoded data removed]",
      "text/plain": [
       "<Figure size 432x288 with 1 Axes>"
      ]
     },
     "metadata": {
      "needs_background": "light"
     },
     "output_type": "display_data"
    }
   ],
   "source": [
    "pop.plot()"
   ]
  },
  {
   "cell_type": "markdown",
   "metadata": {},
   "source": [
    "However, I will return to using the 1000k polygons read in earlier (they are more precise and current)."
   ]
  },
  {
   "cell_type": "code",
   "execution_count": 21,
   "metadata": {},
   "outputs": [],
   "source": [
    "# Joining population info to the more precise municipality polygons:\n",
    "geodata = geodata.merge(pop[[\"code\", \"name\", \"population_31_12_2018\"]], on=\"code\")"
   ]
  },
  {
   "cell_type": "markdown",
   "metadata": {},
   "source": [
    "## Join Health district info to the municipality polygons"
   ]
  },
  {
   "cell_type": "code",
   "execution_count": 22,
   "metadata": {},
   "outputs": [],
   "source": [
    "geodata = geodata.merge(data, on=\"code\", how=\"left\")"
   ]
  },
  {
   "cell_type": "code",
   "execution_count": 23,
   "metadata": {},
   "outputs": [
    {
     "data": {
      "text/html": [
       "<div>\n",
       "<style scoped>\n",
       "    .dataframe tbody tr th:only-of-type {\n",
       "        vertical-align: middle;\n",
       "    }\n",
       "\n",
       "    .dataframe tbody tr th {\n",
       "        vertical-align: top;\n",
       "    }\n",
       "\n",
       "    .dataframe thead th {\n",
       "        text-align: right;\n",
       "    }\n",
       "</style>\n",
       "<table border=\"1\" class=\"dataframe\">\n",
       "  <thead>\n",
       "    <tr style=\"text-align: right;\">\n",
       "      <th></th>\n",
       "      <th>code</th>\n",
       "      <th>geometry</th>\n",
       "      <th>name</th>\n",
       "      <th>population_31_12_2018</th>\n",
       "      <th>healthCareDistrict</th>\n",
       "    </tr>\n",
       "  </thead>\n",
       "  <tbody>\n",
       "    <tr>\n",
       "      <th>0</th>\n",
       "      <td>005</td>\n",
       "      <td>POLYGON ((366787.924 7001300.583, 364487.590 6...</td>\n",
       "      <td>Alajärvi</td>\n",
       "      <td>9700</td>\n",
       "      <td>Etelä-Pohjanmaa</td>\n",
       "    </tr>\n",
       "    <tr>\n",
       "      <th>1</th>\n",
       "      <td>009</td>\n",
       "      <td>POLYGON ((382543.364 7120022.976, 382899.505 7...</td>\n",
       "      <td>Alavieska</td>\n",
       "      <td>2573</td>\n",
       "      <td>Pohjois-Pohjanmaa</td>\n",
       "    </tr>\n",
       "    <tr>\n",
       "      <th>2</th>\n",
       "      <td>010</td>\n",
       "      <td>POLYGON ((343298.204 6961570.195, 343831.847 6...</td>\n",
       "      <td>Alavus</td>\n",
       "      <td>11544</td>\n",
       "      <td>Etelä-Pohjanmaa</td>\n",
       "    </tr>\n",
       "    <tr>\n",
       "      <th>3</th>\n",
       "      <td>016</td>\n",
       "      <td>POLYGON ((436139.680 6798279.085, 435714.468 6...</td>\n",
       "      <td>Asikkala</td>\n",
       "      <td>8149</td>\n",
       "      <td>Päijät-Häme</td>\n",
       "    </tr>\n",
       "    <tr>\n",
       "      <th>4</th>\n",
       "      <td>018</td>\n",
       "      <td>POLYGON ((426631.036 6720528.076, 428821.749 6...</td>\n",
       "      <td>Askola</td>\n",
       "      <td>4958</td>\n",
       "      <td>HUS</td>\n",
       "    </tr>\n",
       "  </tbody>\n",
       "</table>\n",
       "</div>"
      ],
      "text/plain": [
       "  code                                           geometry       name  \\\n",
       "0  005  POLYGON ((366787.924 7001300.583, 364487.590 6...   Alajärvi   \n",
       "1  009  POLYGON ((382543.364 7120022.976, 382899.505 7...  Alavieska   \n",
       "2  010  POLYGON ((343298.204 6961570.195, 343831.847 6...     Alavus   \n",
       "3  016  POLYGON ((436139.680 6798279.085, 435714.468 6...   Asikkala   \n",
       "4  018  POLYGON ((426631.036 6720528.076, 428821.749 6...     Askola   \n",
       "\n",
       "   population_31_12_2018 healthCareDistrict  \n",
       "0                   9700    Etelä-Pohjanmaa  \n",
       "1                   2573  Pohjois-Pohjanmaa  \n",
       "2                  11544    Etelä-Pohjanmaa  \n",
       "3                   8149        Päijät-Häme  \n",
       "4                   4958                HUS  "
      ]
     },
     "execution_count": 23,
     "metadata": {},
     "output_type": "execute_result"
    }
   ],
   "source": [
    "geodata.head()"
   ]
  },
  {
   "cell_type": "code",
   "execution_count": 24,
   "metadata": {},
   "outputs": [
    {
     "data": {
      "text/plain": [
       "7          Brändö\n",
       "8          Eckerö\n",
       "15       Finström\n",
       "17          Föglö\n",
       "18           Geta\n",
       "24     Hammarland\n",
       "58         Jomala\n",
       "112      Kumlinge\n",
       "122         Kökar\n",
       "135       Lemland\n",
       "148    Lumparland\n",
       "154     Mariehamn\n",
       "237       Saltvik\n",
       "255      Sottunga\n",
       "257          Sund\n",
       "302         Vårdö\n",
       "Name: name, dtype: object"
      ]
     },
     "execution_count": 24,
     "metadata": {},
     "output_type": "execute_result"
    }
   ],
   "source": [
    "# Municipalities in the Åland island did not have a matching health care district in the data\n",
    "geodata[geodata.healthCareDistrict.notnull()==False].name"
   ]
  },
  {
   "cell_type": "code",
   "execution_count": 25,
   "metadata": {},
   "outputs": [],
   "source": [
    "# Update \"Ahvenanmaa\" as the health care district for Åland municipalities (16 municipalities in total)\n",
    "geodata.loc[geodata.healthCareDistrict.notnull()==False,'healthCareDistrict'] = \"Ahvenanmaa\""
   ]
  },
  {
   "cell_type": "markdown",
   "metadata": {},
   "source": [
    "Check the count of municipalities per health care disctrict"
   ]
  },
  {
   "cell_type": "code",
   "execution_count": 26,
   "metadata": {},
   "outputs": [
    {
     "data": {
      "text/plain": [
       "Pohjois-Pohjanmaa    29\n",
       "Varsinais-Suomi      28\n",
       "HUS                  24\n",
       "Pirkanmaa            23\n",
       "Keski-Suomi          21\n",
       "Etelä-Pohjanmaa      18\n",
       "Pohjois-Savo         18\n",
       "Satakunta            17\n",
       "Ahvenanmaa           16\n",
       "Lappi                15\n",
       "Pohjois-Karjala      13\n",
       "Vaasa                13\n",
       "Päijät-Häme          12\n",
       "Kanta-Häme           11\n",
       "Keski-Pohjanmaa      10\n",
       "Etelä-Savo            9\n",
       "Etelä-Karjala         9\n",
       "Kainuu                8\n",
       "Länsi-Pohja           6\n",
       "Kymenlaakso           6\n",
       "Itä-Savo              4\n",
       "Name: healthCareDistrict, dtype: int64"
      ]
     },
     "execution_count": 26,
     "metadata": {},
     "output_type": "execute_result"
    }
   ],
   "source": [
    "geodata.healthCareDistrict.value_counts()"
   ]
  },
  {
   "cell_type": "markdown",
   "metadata": {},
   "source": [
    "## Create polygons for health care districts "
   ]
  },
  {
   "cell_type": "code",
   "execution_count": 27,
   "metadata": {},
   "outputs": [],
   "source": [
    "# Dissolve (=combine) municipality polygon geometries for each health care district\n",
    "districts = geodata.dissolve(by='healthCareDistrict', aggfunc=\"sum\")"
   ]
  },
  {
   "cell_type": "code",
   "execution_count": 28,
   "metadata": {},
   "outputs": [],
   "source": [
    "districts.reset_index(inplace=True)"
   ]
  },
  {
   "cell_type": "code",
   "execution_count": 29,
   "metadata": {},
   "outputs": [
    {
     "data": {
      "text/html": [
       "<div>\n",
       "<style scoped>\n",
       "    .dataframe tbody tr th:only-of-type {\n",
       "        vertical-align: middle;\n",
       "    }\n",
       "\n",
       "    .dataframe tbody tr th {\n",
       "        vertical-align: top;\n",
       "    }\n",
       "\n",
       "    .dataframe thead th {\n",
       "        text-align: right;\n",
       "    }\n",
       "</style>\n",
       "<table border=\"1\" class=\"dataframe\">\n",
       "  <thead>\n",
       "    <tr style=\"text-align: right;\">\n",
       "      <th></th>\n",
       "      <th>healthCareDistrict</th>\n",
       "      <th>geometry</th>\n",
       "      <th>population_31_12_2018</th>\n",
       "    </tr>\n",
       "  </thead>\n",
       "  <tbody>\n",
       "    <tr>\n",
       "      <th>0</th>\n",
       "      <td>Ahvenanmaa</td>\n",
       "      <td>MULTIPOLYGON (((173277.623 6640282.925, 173136...</td>\n",
       "      <td>29789</td>\n",
       "    </tr>\n",
       "    <tr>\n",
       "      <th>1</th>\n",
       "      <td>Etelä-Karjala</td>\n",
       "      <td>POLYGON ((595843.841 6772915.996, 592557.900 6...</td>\n",
       "      <td>128756</td>\n",
       "    </tr>\n",
       "    <tr>\n",
       "      <th>2</th>\n",
       "      <td>Etelä-Pohjanmaa</td>\n",
       "      <td>POLYGON ((373036.311 6953044.961, 376149.768 6...</td>\n",
       "      <td>194316</td>\n",
       "    </tr>\n",
       "    <tr>\n",
       "      <th>3</th>\n",
       "      <td>Etelä-Savo</td>\n",
       "      <td>POLYGON ((596327.952 6823806.064, 596718.363 6...</td>\n",
       "      <td>100226</td>\n",
       "    </tr>\n",
       "    <tr>\n",
       "      <th>4</th>\n",
       "      <td>HUS</td>\n",
       "      <td>MULTIPOLYGON (((272609.681 6632304.439, 272418...</td>\n",
       "      <td>1667203</td>\n",
       "    </tr>\n",
       "    <tr>\n",
       "      <th>5</th>\n",
       "      <td>Itä-Savo</td>\n",
       "      <td>POLYGON ((572240.425 6898837.522, 576521.513 6...</td>\n",
       "      <td>41060</td>\n",
       "    </tr>\n",
       "    <tr>\n",
       "      <th>6</th>\n",
       "      <td>Kainuu</td>\n",
       "      <td>POLYGON ((606127.874 7081796.115, 603849.594 7...</td>\n",
       "      <td>73061</td>\n",
       "    </tr>\n",
       "    <tr>\n",
       "      <th>7</th>\n",
       "      <td>Kanta-Häme</td>\n",
       "      <td>POLYGON ((393094.362 6756355.691, 394102.316 6...</td>\n",
       "      <td>171364</td>\n",
       "    </tr>\n",
       "    <tr>\n",
       "      <th>8</th>\n",
       "      <td>Keski-Pohjanmaa</td>\n",
       "      <td>MULTIPOLYGON (((302835.219 7083897.220, 302801...</td>\n",
       "      <td>77689</td>\n",
       "    </tr>\n",
       "    <tr>\n",
       "      <th>9</th>\n",
       "      <td>Keski-Suomi</td>\n",
       "      <td>POLYGON ((439110.805 6852598.036, 439300.113 6...</td>\n",
       "      <td>252676</td>\n",
       "    </tr>\n",
       "    <tr>\n",
       "      <th>10</th>\n",
       "      <td>Kymenlaakso</td>\n",
       "      <td>MULTIPOLYGON (((501532.450 6680088.052, 501352...</td>\n",
       "      <td>166623</td>\n",
       "    </tr>\n",
       "    <tr>\n",
       "      <th>11</th>\n",
       "      <td>Lappi</td>\n",
       "      <td>POLYGON ((518535.957 7313104.574, 515335.969 7...</td>\n",
       "      <td>117350</td>\n",
       "    </tr>\n",
       "    <tr>\n",
       "      <th>12</th>\n",
       "      <td>Länsi-Pohja</td>\n",
       "      <td>MULTIPOLYGON (((399348.710 7271646.236, 399096...</td>\n",
       "      <td>61172</td>\n",
       "    </tr>\n",
       "    <tr>\n",
       "      <th>13</th>\n",
       "      <td>Pirkanmaa</td>\n",
       "      <td>POLYGON ((324952.559 6773513.092, 327451.427 6...</td>\n",
       "      <td>535044</td>\n",
       "    </tr>\n",
       "    <tr>\n",
       "      <th>14</th>\n",
       "      <td>Pohjois-Karjala</td>\n",
       "      <td>POLYGON ((612018.017 6919096.630, 612969.094 6...</td>\n",
       "      <td>165569</td>\n",
       "    </tr>\n",
       "    <tr>\n",
       "      <th>15</th>\n",
       "      <td>Pohjois-Pohjanmaa</td>\n",
       "      <td>MULTIPOLYGON (((374638.926 7170355.448, 374515...</td>\n",
       "      <td>409418</td>\n",
       "    </tr>\n",
       "    <tr>\n",
       "      <th>16</th>\n",
       "      <td>Pohjois-Savo</td>\n",
       "      <td>POLYGON ((568071.215 6914370.703, 570686.991 6...</td>\n",
       "      <td>245602</td>\n",
       "    </tr>\n",
       "    <tr>\n",
       "      <th>17</th>\n",
       "      <td>Päijät-Häme</td>\n",
       "      <td>POLYGON ((441787.770 6730507.194, 442140.745 6...</td>\n",
       "      <td>211215</td>\n",
       "    </tr>\n",
       "    <tr>\n",
       "      <th>18</th>\n",
       "      <td>Satakunta</td>\n",
       "      <td>MULTIPOLYGON (((196901.009 6784937.612, 196955...</td>\n",
       "      <td>218624</td>\n",
       "    </tr>\n",
       "    <tr>\n",
       "      <th>19</th>\n",
       "      <td>Vaasa</td>\n",
       "      <td>MULTIPOLYGON (((200371.753 6892181.697, 200360...</td>\n",
       "      <td>169684</td>\n",
       "    </tr>\n",
       "    <tr>\n",
       "      <th>20</th>\n",
       "      <td>Varsinais-Suomi</td>\n",
       "      <td>MULTIPOLYGON (((258767.605 6632338.388, 258668...</td>\n",
       "      <td>481478</td>\n",
       "    </tr>\n",
       "  </tbody>\n",
       "</table>\n",
       "</div>"
      ],
      "text/plain": [
       "   healthCareDistrict                                           geometry  \\\n",
       "0          Ahvenanmaa  MULTIPOLYGON (((173277.623 6640282.925, 173136...   \n",
       "1       Etelä-Karjala  POLYGON ((595843.841 6772915.996, 592557.900 6...   \n",
       "2     Etelä-Pohjanmaa  POLYGON ((373036.311 6953044.961, 376149.768 6...   \n",
       "3          Etelä-Savo  POLYGON ((596327.952 6823806.064, 596718.363 6...   \n",
       "4                 HUS  MULTIPOLYGON (((272609.681 6632304.439, 272418...   \n",
       "5            Itä-Savo  POLYGON ((572240.425 6898837.522, 576521.513 6...   \n",
       "6              Kainuu  POLYGON ((606127.874 7081796.115, 603849.594 7...   \n",
       "7          Kanta-Häme  POLYGON ((393094.362 6756355.691, 394102.316 6...   \n",
       "8     Keski-Pohjanmaa  MULTIPOLYGON (((302835.219 7083897.220, 302801...   \n",
       "9         Keski-Suomi  POLYGON ((439110.805 6852598.036, 439300.113 6...   \n",
       "10        Kymenlaakso  MULTIPOLYGON (((501532.450 6680088.052, 501352...   \n",
       "11              Lappi  POLYGON ((518535.957 7313104.574, 515335.969 7...   \n",
       "12        Länsi-Pohja  MULTIPOLYGON (((399348.710 7271646.236, 399096...   \n",
       "13          Pirkanmaa  POLYGON ((324952.559 6773513.092, 327451.427 6...   \n",
       "14    Pohjois-Karjala  POLYGON ((612018.017 6919096.630, 612969.094 6...   \n",
       "15  Pohjois-Pohjanmaa  MULTIPOLYGON (((374638.926 7170355.448, 374515...   \n",
       "16       Pohjois-Savo  POLYGON ((568071.215 6914370.703, 570686.991 6...   \n",
       "17        Päijät-Häme  POLYGON ((441787.770 6730507.194, 442140.745 6...   \n",
       "18          Satakunta  MULTIPOLYGON (((196901.009 6784937.612, 196955...   \n",
       "19              Vaasa  MULTIPOLYGON (((200371.753 6892181.697, 200360...   \n",
       "20    Varsinais-Suomi  MULTIPOLYGON (((258767.605 6632338.388, 258668...   \n",
       "\n",
       "    population_31_12_2018  \n",
       "0                   29789  \n",
       "1                  128756  \n",
       "2                  194316  \n",
       "3                  100226  \n",
       "4                 1667203  \n",
       "5                   41060  \n",
       "6                   73061  \n",
       "7                  171364  \n",
       "8                   77689  \n",
       "9                  252676  \n",
       "10                 166623  \n",
       "11                 117350  \n",
       "12                  61172  \n",
       "13                 535044  \n",
       "14                 165569  \n",
       "15                 409418  \n",
       "16                 245602  \n",
       "17                 211215  \n",
       "18                 218624  \n",
       "19                 169684  \n",
       "20                 481478  "
      ]
     },
     "execution_count": 29,
     "metadata": {},
     "output_type": "execute_result"
    }
   ],
   "source": [
    "districts"
   ]
  },
  {
   "cell_type": "code",
   "execution_count": 30,
   "metadata": {},
   "outputs": [
    {
     "data": {
      "text/plain": [
       "(40857.339215, 765862.479085, 6575077.820610001, 7833703.7515899995)"
      ]
     },
     "execution_count": 30,
     "metadata": {},
     "output_type": "execute_result"
    },
    {
     "data": {
      "image/png": "[encoded data removed]",
      "text/plain": [
       "<Figure size 432x288 with 1 Axes>"
      ]
     },
     "metadata": {
      "needs_background": "light"
     },
     "output_type": "display_data"
    }
   ],
   "source": [
    "districts.plot(column='healthCareDistrict', scheme=\"equal_interval\",cmap='tab20', k=20)\n",
    "plt.axis('off')"
   ]
  },
  {
   "cell_type": "code",
   "execution_count": 31,
   "metadata": {},
   "outputs": [],
   "source": [
    "# Write GeoJSON in original projection\n",
    "districts.to_file(\"healthDistrictsEPSG3067.geojson\", driver='GeoJSON', encoding='utf-8')"
   ]
  },
  {
   "cell_type": "code",
   "execution_count": 32,
   "metadata": {},
   "outputs": [],
   "source": [
    "# Re-project to WGS84 and save again\n",
    "wgs84 = CRS.from_epsg(4326)\n",
    "districts.to_crs(wgs84).to_file(\"healthDistrictsEPSG4326.geojson\", driver='GeoJSON', encoding='utf-8')"
   ]
  },
  {
   "cell_type": "code",
   "execution_count": 33,
   "metadata": {},
   "outputs": [],
   "source": [
    "# Write population per health care district to csv\n",
    "districts[['healthCareDistrict',\"population_31_12_2018\"]].to_csv(\"healtCareDistricts_population_31_12_2018.csv\", index=False)"
   ]
  }
 ],
 "metadata": {
  "kernelspec": {
   "display_name": "Python 3",
   "language": "python",
   "name": "python3"
  },
  "language_info": {
   "codemirror_mode": {
    "name": "ipython",
    "version": 3
   },
   "file_extension": ".py",
   "mimetype": "text/x-python",
   "name": "python",
   "nbconvert_exporter": "python",
   "pygments_lexer": "ipython3",
   "version": "3.7.6"
  }
 },
 "nbformat": 4,
 "nbformat_minor": 4
}
