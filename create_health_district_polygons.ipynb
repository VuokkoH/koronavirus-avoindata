{
 "cells": [
  {
   "cell_type": "markdown",
   "metadata": {},
   "source": [
    "# Creating a GIS layer for Finnish Health Districts\n"
   ]
  },
  {
   "cell_type": "markdown",
   "metadata": {},
   "source": [
    "After exploring the COVID-19 [data set shared by the Helsingin Sanomat datadesk](https://github.com/HS-Datadesk/koronavirus-avoindata) which I spotted on [Twitter](https://twitter.com/EsaMakinen/status/1237007961853173761), I noticed that the boundaries of Finnish health districts (sairaanhoitopiiri) are not openly available anywhere.\n",
    "\n",
    "This notebook walks you trought the process of creating the health district polygons based on [Statistics Finland municipality polygons and population info](https://www.stat.fi/org/avoindata/paikkatietoaineistot/vaesto_tilastointialueittain.html) and a [list of health care districts by municipality from Kuntaliitto](https://www.kuntaliitto.fi/sosiaali-ja-terveysasiat/sairaanhoitopiirien-jasenkunnat)."
   ]
  },
  {
   "cell_type": "markdown",
   "metadata": {},
   "source": [
    "Importing required python packages:"
   ]
  },
  {
   "cell_type": "code",
   "execution_count": 1,
   "metadata": {},
   "outputs": [],
   "source": [
    "import json\n",
    "import numpy as np\n",
    "import pandas as pd\n",
    "import geopandas as gpd\n",
    "from pyproj import CRS\n",
    "import matplotlib.pyplot as plt"
   ]
  },
  {
   "cell_type": "markdown",
   "metadata": {},
   "source": [
    "### Data\n",
    "\n",
    "- **Finnish municipalities with health district information** as an Excel spreadsheet from here: https://www.kuntaliitto.fi/sosiaali-ja-terveysasiat/sairaanhoitopiirien-jasenkunnat\n",
    "    - File `Shp_jäsenkunnat_2020.xls`, sheet `kunnat_shp_2020_ aakkosjärj.`\n",
    "    - \"shp\" stands for \"sairaanhoitopiiri\" (health district in Finnish)\n",
    "    \n",
    "*Note: this data set does not include Åland (Ahvenanmaa). Åland municipalities are added in the later step.*\n",
    "\n",
    "*Note: this info should be also available from a Statistics Finland API(?) in a more standard format. If you know how, let me know!*"
   ]
  },
  {
   "cell_type": "code",
   "execution_count": 2,
   "metadata": {},
   "outputs": [],
   "source": [
    "data = pd.read_excel(\"Shp_jäsenkunnat_2020.xls\", sheet_name=\"kunnat_shp_2020_ aakkosjärj.\", header=3)"
   ]
  },
  {
   "cell_type": "code",
   "execution_count": 3,
   "metadata": {},
   "outputs": [],
   "source": [
    "data.dropna(inplace=True)"
   ]
  },
  {
   "cell_type": "code",
   "execution_count": 4,
   "metadata": {},
   "outputs": [
    {
     "data": {
      "text/html": [
       "<div>\n",
       "<style scoped>\n",
       "    .dataframe tbody tr th:only-of-type {\n",
       "        vertical-align: middle;\n",
       "    }\n",
       "\n",
       "    .dataframe tbody tr th {\n",
       "        vertical-align: top;\n",
       "    }\n",
       "\n",
       "    .dataframe thead th {\n",
       "        text-align: right;\n",
       "    }\n",
       "</style>\n",
       "<table border=\"1\" class=\"dataframe\">\n",
       "  <thead>\n",
       "    <tr style=\"text-align: right;\">\n",
       "      <th></th>\n",
       "      <th>kunta-\\nkoodi</th>\n",
       "      <th>kunta</th>\n",
       "      <th>shp:n koodi</th>\n",
       "      <th>sairaanhoitopiiri</th>\n",
       "      <th>erva-alue</th>\n",
       "      <th>kuntien lkm</th>\n",
       "    </tr>\n",
       "  </thead>\n",
       "  <tbody>\n",
       "    <tr>\n",
       "      <th>1</th>\n",
       "      <td>20.0</td>\n",
       "      <td>Akaa</td>\n",
       "      <td>6.0</td>\n",
       "      <td>Pirkanmaa</td>\n",
       "      <td>TAYS</td>\n",
       "      <td>1.0</td>\n",
       "    </tr>\n",
       "    <tr>\n",
       "      <th>2</th>\n",
       "      <td>5.0</td>\n",
       "      <td>Alajärvi</td>\n",
       "      <td>15.0</td>\n",
       "      <td>Etelä-Pohjanmaa</td>\n",
       "      <td>TAYS</td>\n",
       "      <td>2.0</td>\n",
       "    </tr>\n",
       "    <tr>\n",
       "      <th>3</th>\n",
       "      <td>9.0</td>\n",
       "      <td>Alavieska</td>\n",
       "      <td>18.0</td>\n",
       "      <td>Pohjois-Pohjanmaa</td>\n",
       "      <td>OYS</td>\n",
       "      <td>3.0</td>\n",
       "    </tr>\n",
       "    <tr>\n",
       "      <th>4</th>\n",
       "      <td>10.0</td>\n",
       "      <td>Alavus</td>\n",
       "      <td>15.0</td>\n",
       "      <td>Etelä-Pohjanmaa</td>\n",
       "      <td>TAYS</td>\n",
       "      <td>4.0</td>\n",
       "    </tr>\n",
       "    <tr>\n",
       "      <th>5</th>\n",
       "      <td>16.0</td>\n",
       "      <td>Asikkala</td>\n",
       "      <td>7.0</td>\n",
       "      <td>Päijät-Häme</td>\n",
       "      <td>HYKS</td>\n",
       "      <td>5.0</td>\n",
       "    </tr>\n",
       "  </tbody>\n",
       "</table>\n",
       "</div>"
      ],
      "text/plain": [
       "   kunta-\\nkoodi      kunta  shp:n koodi  sairaanhoitopiiri erva-alue  \\\n",
       "1           20.0       Akaa          6.0          Pirkanmaa      TAYS   \n",
       "2            5.0   Alajärvi         15.0    Etelä-Pohjanmaa      TAYS   \n",
       "3            9.0  Alavieska         18.0  Pohjois-Pohjanmaa       OYS   \n",
       "4           10.0     Alavus         15.0    Etelä-Pohjanmaa      TAYS   \n",
       "5           16.0   Asikkala          7.0        Päijät-Häme      HYKS   \n",
       "\n",
       "   kuntien lkm  \n",
       "1          1.0  \n",
       "2          2.0  \n",
       "3          3.0  \n",
       "4          4.0  \n",
       "5          5.0  "
      ]
     },
     "execution_count": 4,
     "metadata": {},
     "output_type": "execute_result"
    }
   ],
   "source": [
    "data.head()"
   ]
  },
  {
   "cell_type": "code",
   "execution_count": 5,
   "metadata": {},
   "outputs": [
    {
     "data": {
      "text/plain": [
       "294"
      ]
     },
     "execution_count": 5,
     "metadata": {},
     "output_type": "execute_result"
    }
   ],
   "source": [
    "#Check number of rows (16 Åland municipalities are missing)\n",
    "len(data)"
   ]
  },
  {
   "cell_type": "markdown",
   "metadata": {},
   "source": [
    "The data needs some fixing and cleaning after reading the excel sheet"
   ]
  },
  {
   "cell_type": "code",
   "execution_count": 6,
   "metadata": {},
   "outputs": [],
   "source": [
    "data.rename(columns={\"kunta-\\nkoodi\":\"code\", 'sairaanhoitopiiri':'healthCareDistrict'}, inplace=True)\n",
    "data = data[['code','healthCareDistrict']]"
   ]
  },
  {
   "cell_type": "code",
   "execution_count": 7,
   "metadata": {},
   "outputs": [],
   "source": [
    "# Truncate and convert to character string\n",
    "data[\"code\"] = data[\"code\"].astype(int).astype('str')\n",
    "\n",
    "# Add missing zeros to municipality codes\n",
    "data[\"code\"] = data[\"code\"].apply(lambda x: \"00\" + x if len(x)==1 else x)\n",
    "data[\"code\"] = data[\"code\"].apply(lambda x: \"0\" + x if len(x)==2 else x)"
   ]
  },
  {
   "cell_type": "code",
   "execution_count": 8,
   "metadata": {},
   "outputs": [
    {
     "data": {
      "text/html": [
       "<div>\n",
       "<style scoped>\n",
       "    .dataframe tbody tr th:only-of-type {\n",
       "        vertical-align: middle;\n",
       "    }\n",
       "\n",
       "    .dataframe tbody tr th {\n",
       "        vertical-align: top;\n",
       "    }\n",
       "\n",
       "    .dataframe thead th {\n",
       "        text-align: right;\n",
       "    }\n",
       "</style>\n",
       "<table border=\"1\" class=\"dataframe\">\n",
       "  <thead>\n",
       "    <tr style=\"text-align: right;\">\n",
       "      <th></th>\n",
       "      <th>code</th>\n",
       "      <th>healthCareDistrict</th>\n",
       "    </tr>\n",
       "  </thead>\n",
       "  <tbody>\n",
       "    <tr>\n",
       "      <th>1</th>\n",
       "      <td>020</td>\n",
       "      <td>Pirkanmaa</td>\n",
       "    </tr>\n",
       "    <tr>\n",
       "      <th>2</th>\n",
       "      <td>005</td>\n",
       "      <td>Etelä-Pohjanmaa</td>\n",
       "    </tr>\n",
       "    <tr>\n",
       "      <th>3</th>\n",
       "      <td>009</td>\n",
       "      <td>Pohjois-Pohjanmaa</td>\n",
       "    </tr>\n",
       "    <tr>\n",
       "      <th>4</th>\n",
       "      <td>010</td>\n",
       "      <td>Etelä-Pohjanmaa</td>\n",
       "    </tr>\n",
       "    <tr>\n",
       "      <th>5</th>\n",
       "      <td>016</td>\n",
       "      <td>Päijät-Häme</td>\n",
       "    </tr>\n",
       "  </tbody>\n",
       "</table>\n",
       "</div>"
      ],
      "text/plain": [
       "  code healthCareDistrict\n",
       "1  020          Pirkanmaa\n",
       "2  005    Etelä-Pohjanmaa\n",
       "3  009  Pohjois-Pohjanmaa\n",
       "4  010    Etelä-Pohjanmaa\n",
       "5  016        Päijät-Häme"
      ]
     },
     "execution_count": 8,
     "metadata": {},
     "output_type": "execute_result"
    }
   ],
   "source": [
    "data.head()"
   ]
  },
  {
   "cell_type": "markdown",
   "metadata": {},
   "source": [
    "- **Municipality polygons with population count** from Statistics Finland web feature service: https://www.stat.fi/org/avoindata/paikkatietoaineistot/vaesto_tilastointialueittain.html\n",
    "\n",
    "    - WFS: http://geo.stat.fi/geoserver/vaestoalue/wfs \n",
    "    - Feature `kunta_vaki2018`: column `vaesto`\n",
    "    - Latest population data currently available here is from 31.12.2018 with 2019 municipality borders.\n",
    "    - Note: Valtimo merged with Nurmes in 2020. Belongs to Pohjois-Karjala health care district.\n",
    "    - Note: other options for admin area polygons are available at: https://www.stat.fi/org/avoindata/paikkatietoaineistot/kuntapohjaiset_tilastointialueet.html\n",
    "    \n",
    "    "
   ]
  },
  {
   "cell_type": "code",
   "execution_count": 9,
   "metadata": {},
   "outputs": [],
   "source": [
    "# For available features, see http://geo.stat.fi/geoserver/vaestoalue/wfs?request=GetCapabilities\n",
    "url = \"http://geo.stat.fi/geoserver/vaestoalue/wfs?request=GetFeature&typename=vaestoalue:kunta_vaki2018&outputformat=JSON\"\n",
    "geodata =gpd.read_file(url)"
   ]
  },
  {
   "cell_type": "code",
   "execution_count": 10,
   "metadata": {},
   "outputs": [
    {
     "data": {
      "text/html": [
       "<div>\n",
       "<style scoped>\n",
       "    .dataframe tbody tr th:only-of-type {\n",
       "        vertical-align: middle;\n",
       "    }\n",
       "\n",
       "    .dataframe tbody tr th {\n",
       "        vertical-align: top;\n",
       "    }\n",
       "\n",
       "    .dataframe thead th {\n",
       "        text-align: right;\n",
       "    }\n",
       "</style>\n",
       "<table border=\"1\" class=\"dataframe\">\n",
       "  <thead>\n",
       "    <tr style=\"text-align: right;\">\n",
       "      <th></th>\n",
       "      <th>id</th>\n",
       "      <th>kunta</th>\n",
       "      <th>vuosi</th>\n",
       "      <th>nimi</th>\n",
       "      <th>namn</th>\n",
       "      <th>name</th>\n",
       "      <th>til_vuosi</th>\n",
       "      <th>vaesto</th>\n",
       "      <th>vaesto_p</th>\n",
       "      <th>miehet</th>\n",
       "      <th>miehet_p</th>\n",
       "      <th>naiset</th>\n",
       "      <th>naiset_p</th>\n",
       "      <th>ika_0_14</th>\n",
       "      <th>ika_0_14p</th>\n",
       "      <th>ika_15_64</th>\n",
       "      <th>ika_15_64p</th>\n",
       "      <th>ika_65_</th>\n",
       "      <th>ika_65_p</th>\n",
       "      <th>geometry</th>\n",
       "    </tr>\n",
       "  </thead>\n",
       "  <tbody>\n",
       "    <tr>\n",
       "      <th>0</th>\n",
       "      <td>kunta_vaki2018.1</td>\n",
       "      <td>005</td>\n",
       "      <td>2019</td>\n",
       "      <td>Alajärvi</td>\n",
       "      <td>Alajärvi</td>\n",
       "      <td>Alajärvi</td>\n",
       "      <td>2018</td>\n",
       "      <td>9700</td>\n",
       "      <td>0.2</td>\n",
       "      <td>4905</td>\n",
       "      <td>50.6</td>\n",
       "      <td>4795</td>\n",
       "      <td>49.4</td>\n",
       "      <td>1688</td>\n",
       "      <td>17.4</td>\n",
       "      <td>5374</td>\n",
       "      <td>55.4</td>\n",
       "      <td>2638</td>\n",
       "      <td>27.2</td>\n",
       "      <td>MULTIPOLYGON (((348733.187 6959704.551, 343298...</td>\n",
       "    </tr>\n",
       "    <tr>\n",
       "      <th>1</th>\n",
       "      <td>kunta_vaki2018.2</td>\n",
       "      <td>009</td>\n",
       "      <td>2019</td>\n",
       "      <td>Alavieska</td>\n",
       "      <td>Alavieska</td>\n",
       "      <td>Alavieska</td>\n",
       "      <td>2018</td>\n",
       "      <td>2573</td>\n",
       "      <td>0.0</td>\n",
       "      <td>1351</td>\n",
       "      <td>52.5</td>\n",
       "      <td>1222</td>\n",
       "      <td>47.5</td>\n",
       "      <td>498</td>\n",
       "      <td>19.4</td>\n",
       "      <td>1466</td>\n",
       "      <td>57.0</td>\n",
       "      <td>609</td>\n",
       "      <td>23.7</td>\n",
       "      <td>MULTIPOLYGON (((370424.741 7104339.037, 360962...</td>\n",
       "    </tr>\n",
       "    <tr>\n",
       "      <th>2</th>\n",
       "      <td>kunta_vaki2018.3</td>\n",
       "      <td>010</td>\n",
       "      <td>2019</td>\n",
       "      <td>Alavus</td>\n",
       "      <td>Alavus</td>\n",
       "      <td>Alavus</td>\n",
       "      <td>2018</td>\n",
       "      <td>11544</td>\n",
       "      <td>0.2</td>\n",
       "      <td>5821</td>\n",
       "      <td>50.4</td>\n",
       "      <td>5723</td>\n",
       "      <td>49.6</td>\n",
       "      <td>1961</td>\n",
       "      <td>17.0</td>\n",
       "      <td>6472</td>\n",
       "      <td>56.1</td>\n",
       "      <td>3111</td>\n",
       "      <td>26.9</td>\n",
       "      <td>MULTIPOLYGON (((317245.323 6922242.407, 310933...</td>\n",
       "    </tr>\n",
       "  </tbody>\n",
       "</table>\n",
       "</div>"
      ],
      "text/plain": [
       "                 id kunta  vuosi       nimi       namn       name  til_vuosi  \\\n",
       "0  kunta_vaki2018.1   005   2019   Alajärvi   Alajärvi   Alajärvi       2018   \n",
       "1  kunta_vaki2018.2   009   2019  Alavieska  Alavieska  Alavieska       2018   \n",
       "2  kunta_vaki2018.3   010   2019     Alavus     Alavus     Alavus       2018   \n",
       "\n",
       "   vaesto  vaesto_p  miehet  miehet_p  naiset  naiset_p  ika_0_14  ika_0_14p  \\\n",
       "0    9700       0.2    4905      50.6    4795      49.4      1688       17.4   \n",
       "1    2573       0.0    1351      52.5    1222      47.5       498       19.4   \n",
       "2   11544       0.2    5821      50.4    5723      49.6      1961       17.0   \n",
       "\n",
       "   ika_15_64  ika_15_64p  ika_65_  ika_65_p  \\\n",
       "0       5374        55.4     2638      27.2   \n",
       "1       1466        57.0      609      23.7   \n",
       "2       6472        56.1     3111      26.9   \n",
       "\n",
       "                                            geometry  \n",
       "0  MULTIPOLYGON (((348733.187 6959704.551, 343298...  \n",
       "1  MULTIPOLYGON (((370424.741 7104339.037, 360962...  \n",
       "2  MULTIPOLYGON (((317245.323 6922242.407, 310933...  "
      ]
     },
     "execution_count": 10,
     "metadata": {},
     "output_type": "execute_result"
    }
   ],
   "source": [
    "geodata.head(3)"
   ]
  },
  {
   "cell_type": "code",
   "execution_count": 11,
   "metadata": {},
   "outputs": [
    {
     "data": {
      "text/html": [
       "<div>\n",
       "<style scoped>\n",
       "    .dataframe tbody tr th:only-of-type {\n",
       "        vertical-align: middle;\n",
       "    }\n",
       "\n",
       "    .dataframe tbody tr th {\n",
       "        vertical-align: top;\n",
       "    }\n",
       "\n",
       "    .dataframe thead th {\n",
       "        text-align: right;\n",
       "    }\n",
       "</style>\n",
       "<table border=\"1\" class=\"dataframe\">\n",
       "  <thead>\n",
       "    <tr style=\"text-align: right;\">\n",
       "      <th></th>\n",
       "      <th>code</th>\n",
       "      <th>name</th>\n",
       "      <th>population_31_12_2018</th>\n",
       "      <th>geometry</th>\n",
       "    </tr>\n",
       "  </thead>\n",
       "  <tbody>\n",
       "    <tr>\n",
       "      <th>0</th>\n",
       "      <td>005</td>\n",
       "      <td>Alajärvi</td>\n",
       "      <td>9700</td>\n",
       "      <td>MULTIPOLYGON (((348733.187 6959704.551, 343298...</td>\n",
       "    </tr>\n",
       "    <tr>\n",
       "      <th>1</th>\n",
       "      <td>009</td>\n",
       "      <td>Alavieska</td>\n",
       "      <td>2573</td>\n",
       "      <td>MULTIPOLYGON (((370424.741 7104339.037, 360962...</td>\n",
       "    </tr>\n",
       "    <tr>\n",
       "      <th>2</th>\n",
       "      <td>010</td>\n",
       "      <td>Alavus</td>\n",
       "      <td>11544</td>\n",
       "      <td>MULTIPOLYGON (((317245.323 6922242.407, 310933...</td>\n",
       "    </tr>\n",
       "    <tr>\n",
       "      <th>3</th>\n",
       "      <td>016</td>\n",
       "      <td>Asikkala</td>\n",
       "      <td>8149</td>\n",
       "      <td>MULTIPOLYGON (((434407.880 6774122.311, 422536...</td>\n",
       "    </tr>\n",
       "    <tr>\n",
       "      <th>4</th>\n",
       "      <td>018</td>\n",
       "      <td>Askola</td>\n",
       "      <td>4958</td>\n",
       "      <td>MULTIPOLYGON (((423421.791 6704555.878, 420729...</td>\n",
       "    </tr>\n",
       "  </tbody>\n",
       "</table>\n",
       "</div>"
      ],
      "text/plain": [
       "  code       name  population_31_12_2018  \\\n",
       "0  005   Alajärvi                   9700   \n",
       "1  009  Alavieska                   2573   \n",
       "2  010     Alavus                  11544   \n",
       "3  016   Asikkala                   8149   \n",
       "4  018     Askola                   4958   \n",
       "\n",
       "                                            geometry  \n",
       "0  MULTIPOLYGON (((348733.187 6959704.551, 343298...  \n",
       "1  MULTIPOLYGON (((370424.741 7104339.037, 360962...  \n",
       "2  MULTIPOLYGON (((317245.323 6922242.407, 310933...  \n",
       "3  MULTIPOLYGON (((434407.880 6774122.311, 422536...  \n",
       "4  MULTIPOLYGON (((423421.791 6704555.878, 420729...  "
      ]
     },
     "execution_count": 11,
     "metadata": {},
     "output_type": "execute_result"
    }
   ],
   "source": [
    "# Drop unnecessary columns and rename\n",
    "geodata = geodata[['kunta', 'name', 'vaesto', 'geometry']]\n",
    "geodata.rename(columns={'kunta':'code', 'vaesto':'population_31_12_2018'}, inplace=True)\n",
    "\n",
    "geodata.head()"
   ]
  },
  {
   "cell_type": "code",
   "execution_count": 12,
   "metadata": {},
   "outputs": [
    {
     "data": {
      "text/plain": [
       "311"
      ]
     },
     "execution_count": 12,
     "metadata": {},
     "output_type": "execute_result"
    }
   ],
   "source": [
    "# Check length (in 2020, there are 310 Municipalities!)\n",
    "len(geodata)"
   ]
  },
  {
   "cell_type": "code",
   "execution_count": null,
   "metadata": {},
   "outputs": [],
   "source": [
    "T"
   ]
  },
  {
   "cell_type": "code",
   "execution_count": 13,
   "metadata": {},
   "outputs": [],
   "source": [
    "# Quick \"kuntaliitos\"; \n",
    "if \"Valtimo\" in geodata[\"name\"].values:\n",
    "    \n",
    "    # Update update municipality code and name of Nurmes for Valtimo\n",
    "    geodata.loc[geodata[\"name\"]==\"Valtimo\", \"code\"] = geodata[geodata[\"name\"]==\"Nurmes\"].code.to_numpy()[0]\n",
    "    geodata.loc[geodata[\"name\"]==\"Valtimo\", \"name\"] = geodata[geodata[\"name\"]==\"Nurmes\"].name.to_numpy()[0]\n",
    "    \n",
    "    # Merge also polygon geometries\n",
    "    temp = geodata.dissolve(by=\"code\", aggfunc='sum')\n",
    "    temp.reset_index(inplace=True)\n",
    "    \n",
    "    # Re-join municipality names to the new geometries\n",
    "    geodata = temp.merge(geodata[[\"code\", \"name\"]].drop_duplicates(), on=\"code\", how=\"left\")"
   ]
  },
  {
   "cell_type": "code",
   "execution_count": 14,
   "metadata": {},
   "outputs": [
    {
     "data": {
      "text/plain": [
       "310"
      ]
     },
     "execution_count": 14,
     "metadata": {},
     "output_type": "execute_result"
    }
   ],
   "source": [
    "len(geodata)"
   ]
  },
  {
   "cell_type": "code",
   "execution_count": 15,
   "metadata": {},
   "outputs": [
    {
     "data": {
      "text/plain": [
       "<matplotlib.axes._subplots.AxesSubplot at 0x29a466df648>"
      ]
     },
     "execution_count": 15,
     "metadata": {},
     "output_type": "execute_result"
    },
    {
     "data": {
      "image/png": "[encoded data removed]",
      "text/plain": [
       "<Figure size 432x288 with 1 Axes>"
      ]
     },
     "metadata": {
      "needs_background": "light"
     },
     "output_type": "display_data"
    }
   ],
   "source": [
    "geodata.plot()"
   ]
  },
  {
   "cell_type": "markdown",
   "metadata": {},
   "source": [
    "## Join Health district info to the municipality polygons"
   ]
  },
  {
   "cell_type": "code",
   "execution_count": 16,
   "metadata": {},
   "outputs": [],
   "source": [
    "geodata = geodata.merge(data, on=\"code\", how=\"left\")"
   ]
  },
  {
   "cell_type": "code",
   "execution_count": 17,
   "metadata": {},
   "outputs": [
    {
     "data": {
      "text/html": [
       "<div>\n",
       "<style scoped>\n",
       "    .dataframe tbody tr th:only-of-type {\n",
       "        vertical-align: middle;\n",
       "    }\n",
       "\n",
       "    .dataframe tbody tr th {\n",
       "        vertical-align: top;\n",
       "    }\n",
       "\n",
       "    .dataframe thead th {\n",
       "        text-align: right;\n",
       "    }\n",
       "</style>\n",
       "<table border=\"1\" class=\"dataframe\">\n",
       "  <thead>\n",
       "    <tr style=\"text-align: right;\">\n",
       "      <th></th>\n",
       "      <th>code</th>\n",
       "      <th>geometry</th>\n",
       "      <th>population_31_12_2018</th>\n",
       "      <th>name</th>\n",
       "      <th>healthCareDistrict</th>\n",
       "    </tr>\n",
       "  </thead>\n",
       "  <tbody>\n",
       "    <tr>\n",
       "      <th>0</th>\n",
       "      <td>005</td>\n",
       "      <td>POLYGON ((348733.187 6959704.551, 343298.204 6...</td>\n",
       "      <td>9700</td>\n",
       "      <td>Alajärvi</td>\n",
       "      <td>Etelä-Pohjanmaa</td>\n",
       "    </tr>\n",
       "    <tr>\n",
       "      <th>1</th>\n",
       "      <td>009</td>\n",
       "      <td>POLYGON ((370424.741 7104339.037, 360962.992 7...</td>\n",
       "      <td>2573</td>\n",
       "      <td>Alavieska</td>\n",
       "      <td>Pohjois-Pohjanmaa</td>\n",
       "    </tr>\n",
       "    <tr>\n",
       "      <th>2</th>\n",
       "      <td>010</td>\n",
       "      <td>POLYGON ((317245.323 6922242.407, 310933.466 6...</td>\n",
       "      <td>11544</td>\n",
       "      <td>Alavus</td>\n",
       "      <td>Etelä-Pohjanmaa</td>\n",
       "    </tr>\n",
       "    <tr>\n",
       "      <th>3</th>\n",
       "      <td>016</td>\n",
       "      <td>POLYGON ((434407.880 6774122.311, 422536.607 6...</td>\n",
       "      <td>8149</td>\n",
       "      <td>Asikkala</td>\n",
       "      <td>Päijät-Häme</td>\n",
       "    </tr>\n",
       "    <tr>\n",
       "      <th>4</th>\n",
       "      <td>018</td>\n",
       "      <td>POLYGON ((423421.791 6704555.878, 420729.970 6...</td>\n",
       "      <td>4958</td>\n",
       "      <td>Askola</td>\n",
       "      <td>HUS</td>\n",
       "    </tr>\n",
       "  </tbody>\n",
       "</table>\n",
       "</div>"
      ],
      "text/plain": [
       "  code                                           geometry  \\\n",
       "0  005  POLYGON ((348733.187 6959704.551, 343298.204 6...   \n",
       "1  009  POLYGON ((370424.741 7104339.037, 360962.992 7...   \n",
       "2  010  POLYGON ((317245.323 6922242.407, 310933.466 6...   \n",
       "3  016  POLYGON ((434407.880 6774122.311, 422536.607 6...   \n",
       "4  018  POLYGON ((423421.791 6704555.878, 420729.970 6...   \n",
       "\n",
       "   population_31_12_2018       name healthCareDistrict  \n",
       "0                   9700   Alajärvi    Etelä-Pohjanmaa  \n",
       "1                   2573  Alavieska  Pohjois-Pohjanmaa  \n",
       "2                  11544     Alavus    Etelä-Pohjanmaa  \n",
       "3                   8149   Asikkala        Päijät-Häme  \n",
       "4                   4958     Askola                HUS  "
      ]
     },
     "execution_count": 17,
     "metadata": {},
     "output_type": "execute_result"
    }
   ],
   "source": [
    "geodata.head()"
   ]
  },
  {
   "cell_type": "code",
   "execution_count": 18,
   "metadata": {},
   "outputs": [
    {
     "data": {
      "text/plain": [
       "7          Brändö\n",
       "8          Eckerö\n",
       "15       Finström\n",
       "17          Föglö\n",
       "18           Geta\n",
       "24     Hammarland\n",
       "58         Jomala\n",
       "112      Kumlinge\n",
       "122         Kökar\n",
       "135       Lemland\n",
       "148    Lumparland\n",
       "154     Mariehamn\n",
       "237       Saltvik\n",
       "255      Sottunga\n",
       "257          Sund\n",
       "302         Vårdö\n",
       "Name: name, dtype: object"
      ]
     },
     "execution_count": 18,
     "metadata": {},
     "output_type": "execute_result"
    }
   ],
   "source": [
    "# Municipalities in the Åland island did not have a matching health care district in the data\n",
    "geodata[geodata.healthCareDistrict.notnull()==False].name"
   ]
  },
  {
   "cell_type": "code",
   "execution_count": 19,
   "metadata": {},
   "outputs": [],
   "source": [
    "# Update \"Ahvenanmaa\" as the health care district for Åland municipalities (16 municipalities in total)\n",
    "geodata.loc[geodata.healthCareDistrict.notnull()==False,'healthCareDistrict'] = \"Ahvenanmaa\""
   ]
  },
  {
   "cell_type": "markdown",
   "metadata": {},
   "source": [
    "Check the count of municipalities per health care disctrict"
   ]
  },
  {
   "cell_type": "code",
   "execution_count": 20,
   "metadata": {},
   "outputs": [
    {
     "data": {
      "text/plain": [
       "Pohjois-Pohjanmaa    29\n",
       "Varsinais-Suomi      28\n",
       "HUS                  24\n",
       "Pirkanmaa            23\n",
       "Keski-Suomi          21\n",
       "Etelä-Pohjanmaa      18\n",
       "Pohjois-Savo         18\n",
       "Satakunta            17\n",
       "Ahvenanmaa           16\n",
       "Lappi                15\n",
       "Vaasa                13\n",
       "Pohjois-Karjala      13\n",
       "Päijät-Häme          12\n",
       "Kanta-Häme           11\n",
       "Keski-Pohjanmaa      10\n",
       "Etelä-Karjala         9\n",
       "Etelä-Savo            9\n",
       "Kainuu                8\n",
       "Länsi-Pohja           6\n",
       "Kymenlaakso           6\n",
       "Itä-Savo              4\n",
       "Name: healthCareDistrict, dtype: int64"
      ]
     },
     "execution_count": 20,
     "metadata": {},
     "output_type": "execute_result"
    }
   ],
   "source": [
    "geodata.healthCareDistrict.value_counts()"
   ]
  },
  {
   "cell_type": "markdown",
   "metadata": {},
   "source": [
    "## Create polygons for health care districts "
   ]
  },
  {
   "cell_type": "code",
   "execution_count": 21,
   "metadata": {},
   "outputs": [],
   "source": [
    "# Dissolve (=combine) municipality polygon geometries for each health care district\n",
    "districts = geodata.dissolve(by='healthCareDistrict', aggfunc=\"sum\")"
   ]
  },
  {
   "cell_type": "code",
   "execution_count": 22,
   "metadata": {},
   "outputs": [],
   "source": [
    "districts.reset_index(inplace=True)"
   ]
  },
  {
   "cell_type": "code",
   "execution_count": 23,
   "metadata": {},
   "outputs": [
    {
     "data": {
      "text/html": [
       "<div>\n",
       "<style scoped>\n",
       "    .dataframe tbody tr th:only-of-type {\n",
       "        vertical-align: middle;\n",
       "    }\n",
       "\n",
       "    .dataframe tbody tr th {\n",
       "        vertical-align: top;\n",
       "    }\n",
       "\n",
       "    .dataframe thead th {\n",
       "        text-align: right;\n",
       "    }\n",
       "</style>\n",
       "<table border=\"1\" class=\"dataframe\">\n",
       "  <thead>\n",
       "    <tr style=\"text-align: right;\">\n",
       "      <th></th>\n",
       "      <th>healthCareDistrict</th>\n",
       "      <th>geometry</th>\n",
       "      <th>population_31_12_2018</th>\n",
       "    </tr>\n",
       "  </thead>\n",
       "  <tbody>\n",
       "    <tr>\n",
       "      <th>0</th>\n",
       "      <td>Ahvenanmaa</td>\n",
       "      <td>MULTIPOLYGON (((159517.426 6655773.408, 156948...</td>\n",
       "      <td>29789</td>\n",
       "    </tr>\n",
       "    <tr>\n",
       "      <th>1</th>\n",
       "      <td>Etelä-Karjala</td>\n",
       "      <td>POLYGON ((538858.650 6740202.117, 532977.917 6...</td>\n",
       "      <td>128756</td>\n",
       "    </tr>\n",
       "    <tr>\n",
       "      <th>2</th>\n",
       "      <td>Etelä-Pohjanmaa</td>\n",
       "      <td>POLYGON ((345455.367 6918226.112, 341008.871 6...</td>\n",
       "      <td>194316</td>\n",
       "    </tr>\n",
       "    <tr>\n",
       "      <th>3</th>\n",
       "      <td>Etelä-Savo</td>\n",
       "      <td>POLYGON ((549805.424 6802171.894, 542379.233 6...</td>\n",
       "      <td>100226</td>\n",
       "    </tr>\n",
       "    <tr>\n",
       "      <th>4</th>\n",
       "      <td>HUS</td>\n",
       "      <td>MULTIPOLYGON (((297472.094 6640920.093, 296412...</td>\n",
       "      <td>1667203</td>\n",
       "    </tr>\n",
       "    <tr>\n",
       "      <th>5</th>\n",
       "      <td>Itä-Savo</td>\n",
       "      <td>POLYGON ((596327.952 6823806.064, 583404.190 6...</td>\n",
       "      <td>41060</td>\n",
       "    </tr>\n",
       "    <tr>\n",
       "      <th>6</th>\n",
       "      <td>Kainuu</td>\n",
       "      <td>POLYGON ((563043.244 7060737.936, 557748.878 7...</td>\n",
       "      <td>73061</td>\n",
       "    </tr>\n",
       "    <tr>\n",
       "      <th>7</th>\n",
       "      <td>Kanta-Häme</td>\n",
       "      <td>POLYGON ((358726.220 6715710.045, 357796.233 6...</td>\n",
       "      <td>171364</td>\n",
       "    </tr>\n",
       "    <tr>\n",
       "      <th>8</th>\n",
       "      <td>Keski-Pohjanmaa</td>\n",
       "      <td>POLYGON ((366787.924 7001300.583, 357452.604 7...</td>\n",
       "      <td>77689</td>\n",
       "    </tr>\n",
       "    <tr>\n",
       "      <th>9</th>\n",
       "      <td>Keski-Suomi</td>\n",
       "      <td>POLYGON ((420678.769 6839096.004, 422729.752 6...</td>\n",
       "      <td>252676</td>\n",
       "    </tr>\n",
       "    <tr>\n",
       "      <th>10</th>\n",
       "      <td>Kymenlaakso</td>\n",
       "      <td>MULTIPOLYGON (((510156.333 6681724.746, 508497...</td>\n",
       "      <td>166623</td>\n",
       "    </tr>\n",
       "    <tr>\n",
       "      <th>11</th>\n",
       "      <td>Lappi</td>\n",
       "      <td>POLYGON ((491950.939 7286610.701, 461385.917 7...</td>\n",
       "      <td>117350</td>\n",
       "    </tr>\n",
       "    <tr>\n",
       "      <th>12</th>\n",
       "      <td>Länsi-Pohja</td>\n",
       "      <td>POLYGON ((392601.857 7283066.842, 392361.402 7...</td>\n",
       "      <td>61172</td>\n",
       "    </tr>\n",
       "    <tr>\n",
       "      <th>13</th>\n",
       "      <td>Pirkanmaa</td>\n",
       "      <td>POLYGON ((328776.641 6760201.180, 322286.219 6...</td>\n",
       "      <td>535044</td>\n",
       "    </tr>\n",
       "    <tr>\n",
       "      <th>14</th>\n",
       "      <td>Pohjois-Karjala</td>\n",
       "      <td>POLYGON ((592041.831 6899079.316, 585905.795 6...</td>\n",
       "      <td>165569</td>\n",
       "    </tr>\n",
       "    <tr>\n",
       "      <th>15</th>\n",
       "      <td>Pohjois-Pohjanmaa</td>\n",
       "      <td>MULTIPOLYGON (((333625.507 7121067.320, 333175...</td>\n",
       "      <td>409418</td>\n",
       "    </tr>\n",
       "    <tr>\n",
       "      <th>16</th>\n",
       "      <td>Pohjois-Savo</td>\n",
       "      <td>POLYGON ((583254.791 6891874.440, 578274.261 6...</td>\n",
       "      <td>245602</td>\n",
       "    </tr>\n",
       "    <tr>\n",
       "      <th>17</th>\n",
       "      <td>Päijät-Häme</td>\n",
       "      <td>POLYGON ((435459.201 6713354.279, 435459.175 6...</td>\n",
       "      <td>211215</td>\n",
       "    </tr>\n",
       "    <tr>\n",
       "      <th>18</th>\n",
       "      <td>Satakunta</td>\n",
       "      <td>MULTIPOLYGON (((197301.568 6794997.711, 196541...</td>\n",
       "      <td>218624</td>\n",
       "    </tr>\n",
       "    <tr>\n",
       "      <th>19</th>\n",
       "      <td>Vaasa</td>\n",
       "      <td>MULTIPOLYGON (((194831.889 6947066.665, 194072...</td>\n",
       "      <td>169684</td>\n",
       "    </tr>\n",
       "    <tr>\n",
       "      <th>20</th>\n",
       "      <td>Varsinais-Suomi</td>\n",
       "      <td>MULTIPOLYGON (((196902.487 6642468.946, 195403...</td>\n",
       "      <td>481478</td>\n",
       "    </tr>\n",
       "  </tbody>\n",
       "</table>\n",
       "</div>"
      ],
      "text/plain": [
       "   healthCareDistrict                                           geometry  \\\n",
       "0          Ahvenanmaa  MULTIPOLYGON (((159517.426 6655773.408, 156948...   \n",
       "1       Etelä-Karjala  POLYGON ((538858.650 6740202.117, 532977.917 6...   \n",
       "2     Etelä-Pohjanmaa  POLYGON ((345455.367 6918226.112, 341008.871 6...   \n",
       "3          Etelä-Savo  POLYGON ((549805.424 6802171.894, 542379.233 6...   \n",
       "4                 HUS  MULTIPOLYGON (((297472.094 6640920.093, 296412...   \n",
       "5            Itä-Savo  POLYGON ((596327.952 6823806.064, 583404.190 6...   \n",
       "6              Kainuu  POLYGON ((563043.244 7060737.936, 557748.878 7...   \n",
       "7          Kanta-Häme  POLYGON ((358726.220 6715710.045, 357796.233 6...   \n",
       "8     Keski-Pohjanmaa  POLYGON ((366787.924 7001300.583, 357452.604 7...   \n",
       "9         Keski-Suomi  POLYGON ((420678.769 6839096.004, 422729.752 6...   \n",
       "10        Kymenlaakso  MULTIPOLYGON (((510156.333 6681724.746, 508497...   \n",
       "11              Lappi  POLYGON ((491950.939 7286610.701, 461385.917 7...   \n",
       "12        Länsi-Pohja  POLYGON ((392601.857 7283066.842, 392361.402 7...   \n",
       "13          Pirkanmaa  POLYGON ((328776.641 6760201.180, 322286.219 6...   \n",
       "14    Pohjois-Karjala  POLYGON ((592041.831 6899079.316, 585905.795 6...   \n",
       "15  Pohjois-Pohjanmaa  MULTIPOLYGON (((333625.507 7121067.320, 333175...   \n",
       "16       Pohjois-Savo  POLYGON ((583254.791 6891874.440, 578274.261 6...   \n",
       "17        Päijät-Häme  POLYGON ((435459.201 6713354.279, 435459.175 6...   \n",
       "18          Satakunta  MULTIPOLYGON (((197301.568 6794997.711, 196541...   \n",
       "19              Vaasa  MULTIPOLYGON (((194831.889 6947066.665, 194072...   \n",
       "20    Varsinais-Suomi  MULTIPOLYGON (((196902.487 6642468.946, 195403...   \n",
       "\n",
       "    population_31_12_2018  \n",
       "0                   29789  \n",
       "1                  128756  \n",
       "2                  194316  \n",
       "3                  100226  \n",
       "4                 1667203  \n",
       "5                   41060  \n",
       "6                   73061  \n",
       "7                  171364  \n",
       "8                   77689  \n",
       "9                  252676  \n",
       "10                 166623  \n",
       "11                 117350  \n",
       "12                  61172  \n",
       "13                 535044  \n",
       "14                 165569  \n",
       "15                 409418  \n",
       "16                 245602  \n",
       "17                 211215  \n",
       "18                 218624  \n",
       "19                 169684  \n",
       "20                 481478  "
      ]
     },
     "execution_count": 23,
     "metadata": {},
     "output_type": "execute_result"
    }
   ],
   "source": [
    "districts"
   ]
  },
  {
   "cell_type": "code",
   "execution_count": 24,
   "metadata": {},
   "outputs": [
    {
     "data": {
      "text/plain": [
       "(51289.577464999995, 765365.833435, 6580061.5578999985, 7833400.880299999)"
      ]
     },
     "execution_count": 24,
     "metadata": {},
     "output_type": "execute_result"
    },
    {
     "data": {
      "image/png": "[encoded data removed]",
      "text/plain": [
       "<Figure size 432x288 with 1 Axes>"
      ]
     },
     "metadata": {
      "needs_background": "light"
     },
     "output_type": "display_data"
    }
   ],
   "source": [
    "districts.plot(column='healthCareDistrict', scheme=\"equal_interval\",cmap='tab20', k=20)\n",
    "plt.axis('off')"
   ]
  },
  {
   "cell_type": "code",
   "execution_count": 25,
   "metadata": {},
   "outputs": [],
   "source": [
    "# Write GeoJSON in original projection\n",
    "districts.to_file(\"healthDistrictsEPSG3067.geojson\", driver='GeoJSON', encoding='utf-8')"
   ]
  },
  {
   "cell_type": "code",
   "execution_count": 26,
   "metadata": {},
   "outputs": [],
   "source": [
    "# Re-project to WGS84 and save again\n",
    "wgs84 = CRS.from_epsg(4326)\n",
    "districts.to_crs(wgs84).to_file(\"healthDistrictsEPSG4326.geojson\", driver='GeoJSON', encoding='utf-8')"
   ]
  },
  {
   "cell_type": "code",
   "execution_count": 27,
   "metadata": {},
   "outputs": [],
   "source": [
    "# Write population per health care district to csv\n",
    "districts[['healthCareDistrict',\"population_31_12_2018\"]].to_csv(\"healtCareDistricts_population_31_12_2018.csv\", index=False)"
   ]
  }
 ],
 "metadata": {
  "kernelspec": {
   "display_name": "Python 3",
   "language": "python",
   "name": "python3"
  },
  "language_info": {
   "codemirror_mode": {
    "name": "ipython",
    "version": 3
   },
   "file_extension": ".py",
   "mimetype": "text/x-python",
   "name": "python",
   "nbconvert_exporter": "python",
   "pygments_lexer": "ipython3",
   "version": "3.7.6"
  }
 },
 "nbformat": 4,
 "nbformat_minor": 4
}
